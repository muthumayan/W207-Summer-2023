{
  "cells": [
    {
      "cell_type": "markdown",
      "metadata": {
        "id": "MKsRDH5ZUdfasdv"
      },
      "source": [
        "# Lab 9"
      ]
    },
    {
      "cell_type": "markdown",
      "metadata": {
        "id": "GGft-GhHs2xV"
      },
      "source": [
        "### <span style=\"color:chocolate\"> Submission requirements </span>\n",
        "\n",
        "Additional points may be deducted if these requirements are not met:\n",
        "    \n",
        "* Comment your code\n",
        "* Each graph should have a title, labels for each axis, and (if needed) a legend. Each graph should be understandable on its own\n",
        "* Be sure your submitted notebook includes the output of your run (Hint: go to Kernel -> Restart Kernel and Run All Cells...)\n",
        "* Try and minimize the use of the global namespace (meaning, keep things inside functions)\n",
        "* Upload your .ipynb file to Gradescope when done\n",
        "---"
      ]
    },
    {
      "cell_type": "markdown",
      "metadata": {
        "id": "43534tdfgs-v"
      },
      "source": [
        "In this lab, we'll train models for sentiment classification and experiment with learned embeddings for text features."
      ]
    },
    {
      "cell_type": "code",
      "execution_count": 1,
      "metadata": {
        "id": "7X58hOMTUH-w"
      },
      "outputs": [],
      "source": [
        "# Import the libraries we'll use below.\n",
        "import numpy as np\n",
        "from matplotlib import pyplot as plt\n",
        "import pandas as pd\n",
        "import seaborn as sns  # for nicer plots\n",
        "sns.set(style=\"darkgrid\")  # default style\n",
        "import plotly.graph_objs as plotly  # for interactive plots\n",
        "\n",
        "import tensorflow as tf\n",
        "from tensorflow.keras.datasets import imdb"
      ]
    },
    {
      "cell_type": "markdown",
      "metadata": {
        "id": "eqppUDpmdptk"
      },
      "source": [
        "## Data for Sentiment Classification\n",
        "\n",
        "In this lab, we'll train a *sentiment* classifier for movie reviews. That is, the input is the text of a movie review and the output is the probability the input was a positive review. The target labels are binary, 0 for negative and 1 for positive.\n",
        "\n",
        "Our data includes 50,000 movie reviews on IMDB. The data comes pre-segmented into train and test splits. The [data loading function](https://www.tensorflow.org/api_docs/python/tf/keras/datasets/imdb/load_data) below also splits each input text into tokens (words) and maps the words to integer values. Each input is a sequence of integers corresponding to the words."
      ]
    },
    {
      "cell_type": "code",
      "execution_count": 2,
      "metadata": {
        "colab": {
          "base_uri": "https://localhost:8080/"
        },
        "id": "s6M-asvhQWV_",
        "outputId": "78db9aa0-ee29-44c2-f639-62c00c02ec4c"
      },
      "outputs": [
        {
          "output_type": "stream",
          "name": "stdout",
          "text": [
            "Downloading data from https://storage.googleapis.com/tensorflow/tf-keras-datasets/imdb.npz\n",
            "17464789/17464789 [==============================] - 0s 0us/step\n",
            "X_train.shape: (25000,)\n",
            "Y_train.shape: (25000,)\n",
            "X_test.shape: (25000,)\n",
            "Y_test.shape: (25000,)\n",
            "First training example data: [1, 14, 22, 16, 43, 530, 973, 1622, 1385, 65, 458, 4468, 66, 3941, 4, 173, 36, 256, 5, 25, 100, 43, 838, 112, 50, 670, 22665, 9, 35, 480, 284, 5, 150, 4, 172, 112, 167, 21631, 336, 385, 39, 4, 172, 4536, 1111, 17, 546, 38, 13, 447, 4, 192, 50, 16, 6, 147, 2025, 19, 14, 22, 4, 1920, 4613, 469, 4, 22, 71, 87, 12, 16, 43, 530, 38, 76, 15, 13, 1247, 4, 22, 17, 515, 17, 12, 16, 626, 18, 19193, 5, 62, 386, 12, 8, 316, 8, 106, 5, 4, 2223, 5244, 16, 480, 66, 3785, 33, 4, 130, 12, 16, 38, 619, 5, 25, 124, 51, 36, 135, 48, 25, 1415, 33, 6, 22, 12, 215, 28, 77, 52, 5, 14, 407, 16, 82, 10311, 8, 4, 107, 117, 5952, 15, 256, 4, 31050, 7, 3766, 5, 723, 36, 71, 43, 530, 476, 26, 400, 317, 46, 7, 4, 12118, 1029, 13, 104, 88, 4, 381, 15, 297, 98, 32, 2071, 56, 26, 141, 6, 194, 7486, 18, 4, 226, 22, 21, 134, 476, 26, 480, 5, 144, 30, 5535, 18, 51, 36, 28, 224, 92, 25, 104, 4, 226, 65, 16, 38, 1334, 88, 12, 16, 283, 5, 16, 4472, 113, 103, 32, 15, 16, 5345, 19, 178, 32]\n",
            "First training example label: 1\n"
          ]
        }
      ],
      "source": [
        "(X_train, Y_train), (X_test, Y_test) = imdb.load_data(path=\"imdb.npz\",\n",
        "                                                      num_words=None,\n",
        "                                                      skip_top=0,\n",
        "                                                      maxlen=None,\n",
        "                                                      seed=113,\n",
        "                                                      start_char=1,\n",
        "                                                      oov_char=2,\n",
        "                                                      index_from=3)\n",
        "\n",
        "print(\"X_train.shape:\", X_train.shape)\n",
        "print(\"Y_train.shape:\", Y_train.shape)\n",
        "print(\"X_test.shape:\", X_test.shape)\n",
        "print(\"Y_test.shape:\", Y_test.shape)\n",
        "\n",
        "print('First training example data:', X_train[0])\n",
        "print('First training example label:', Y_train[0])"
      ]
    },
    {
      "cell_type": "markdown",
      "metadata": {
        "id": "MyIWiy-4gQK-"
      },
      "source": [
        "So our first training example is a positive review. But that sequence of integer IDs is hard to read. The data loader provides a dictionary mapping words to IDs. Let's create a reverse index.\n"
      ]
    },
    {
      "cell_type": "code",
      "execution_count": 3,
      "metadata": {
        "colab": {
          "base_uri": "https://localhost:8080/"
        },
        "id": "HQ-qATkhUj7c",
        "outputId": "5b052134-47b7-4f3d-d999-537f528ad687"
      },
      "outputs": [
        {
          "output_type": "stream",
          "name": "stdout",
          "text": [
            "Downloading data from https://storage.googleapis.com/tensorflow/tf-keras-datasets/imdb_word_index.json\n",
            "1641221/1641221 [==============================] - 0s 0us/step\n",
            "Largest ID: 88587\n"
          ]
        }
      ],
      "source": [
        "# The imdb dataset comes with an index mapping words to integers.\n",
        "# In the index the words are ordered by frequency they occur.\n",
        "index = imdb.get_word_index()\n",
        "\n",
        "# Because we used index_from=3 (above), setting aside ids below 3 for special\n",
        "# symbols, we need to add 3 to the index values.\n",
        "index = dict([(key, value+3) for (key, value) in index.items()])\n",
        "\n",
        "# Create a reverse index so we can lookup tokens assigned to each id.\n",
        "reverse_index = dict([(value, key) for (key, value) in index.items()])\n",
        "reverse_index[1] = '<START>'  # start of input\n",
        "reverse_index[2] = '#'        # out-of-vocabulary (OOV)\n",
        "reverse_index[3] = '<UNUSED>'\n",
        "\n",
        "max_id = max(reverse_index.keys())\n",
        "print('Largest ID:', max_id)"
      ]
    },
    {
      "cell_type": "markdown",
      "metadata": {
        "id": "h76-b07ehWNQ"
      },
      "source": [
        "Note that our index (and reverse index) have over 88,000 tokens. That's quite a large vocabulary! Let's also write a decoding function for our data."
      ]
    },
    {
      "cell_type": "code",
      "execution_count": 4,
      "metadata": {
        "colab": {
          "base_uri": "https://localhost:8080/"
        },
        "id": "UjobmouHS5Dm",
        "outputId": "cbacf1c1-6f6f-4091-f701-14a4661a7339"
      },
      "outputs": [
        {
          "output_type": "stream",
          "name": "stdout",
          "text": [
            "[1, 14, 22, 16, 43, 530, 973, 1622, 1385, 65, 458, 4468, 66, 3941, 4, 173, 36, 256, 5, 25, 100, 43, 838, 112, 50, 670, 22665, 9, 35, 480, 284, 5, 150, 4, 172, 112, 167, 21631, 336, 385, 39, 4, 172, 4536, 1111, 17, 546, 38, 13, 447, 4, 192, 50, 16, 6, 147, 2025, 19, 14, 22, 4, 1920, 4613, 469, 4, 22, 71, 87, 12, 16, 43, 530, 38, 76, 15, 13, 1247, 4, 22, 17, 515, 17, 12, 16, 626, 18, 19193, 5, 62, 386, 12, 8, 316, 8, 106, 5, 4, 2223, 5244, 16, 480, 66, 3785, 33, 4, 130, 12, 16, 38, 619, 5, 25, 124, 51, 36, 135, 48, 25, 1415, 33, 6, 22, 12, 215, 28, 77, 52, 5, 14, 407, 16, 82, 10311, 8, 4, 107, 117, 5952, 15, 256, 4, 31050, 7, 3766, 5, 723, 36, 71, 43, 530, 476, 26, 400, 317, 46, 7, 4, 12118, 1029, 13, 104, 88, 4, 381, 15, 297, 98, 32, 2071, 56, 26, 141, 6, 194, 7486, 18, 4, 226, 22, 21, 134, 476, 26, 480, 5, 144, 30, 5535, 18, 51, 36, 28, 224, 92, 25, 104, 4, 226, 65, 16, 38, 1334, 88, 12, 16, 283, 5, 16, 4472, 113, 103, 32, 15, 16, 5345, 19, 178, 32]\n",
            "<START> this film was just brilliant casting location scenery story direction everyone's really suited the part they played and you could just imagine being there robert redford's is an amazing actor and now the same being director norman's father came from the same scottish island as myself so i loved the fact there was a real connection with this film the witty remarks throughout the film were great it was just brilliant so much that i bought the film as soon as it was released for retail and would recommend it to everyone to watch and the fly fishing was amazing really cried at the end it was so sad and you know what they say if you cry at a film it must have been good and this definitely was also congratulations to the two little boy's that played the part's of norman and paul they were just brilliant children are often left out of the praising list i think because the stars that play them all grown up are such a big profile for the whole film but these children are amazing and should be praised for what they have done don't you think the whole story was so lovely because it was true and was someone's life after all that was shared with us all\n"
          ]
        }
      ],
      "source": [
        "def decode(token_ids):\n",
        "  \"\"\"Return a string with the decoded text given a list of token ids.\"\"\"\n",
        "  # Try looking up each id in the index, but return '#' (for OOV) if not found.\n",
        "  tokens = [reverse_index.get(i, \"#\") for i in token_ids]\n",
        "\n",
        "  # Connect the string tokens with a space.\n",
        "  return ' '.join(tokens)\n",
        "\n",
        "# Show the ids corresponding tokens in the first example.\n",
        "print(X_train[0])\n",
        "print(decode(X_train[0]))"
      ]
    },
    {
      "cell_type": "markdown",
      "metadata": {
        "id": "g47w5CackGBA"
      },
      "source": [
        "### Text Lengths\n",
        "As usual, let's start with some data analysis. How long are the reviews? Is there a difference in length between positive and negative reviews? A histogram will help answer these questions."
      ]
    },
    {
      "cell_type": "code",
      "execution_count": 5,
      "metadata": {
        "colab": {
          "base_uri": "https://localhost:8080/",
          "height": 476
        },
        "id": "kEOgzo8Gk3r7",
        "outputId": "189bfbcc-812b-4077-e315-a81c1e0c6ace"
      },
      "outputs": [
        {
          "output_type": "display_data",
          "data": {
            "text/plain": [
              "<Figure size 640x480 with 1 Axes>"
            ],
            "image/png": "[encoded data removed]"
          },
          "metadata": {}
        },
        {
          "output_type": "stream",
          "name": "stdout",
          "text": [
            "Longest positive review: 2494\n",
            "Longest negative review: 1571\n"
          ]
        }
      ],
      "source": [
        "# Create a list of lengths for training examples with a positive label.\n",
        "text_lengths_pos = [len(x) for (i, x) in enumerate(X_train) if Y_train[i]]\n",
        "\n",
        "# And a list of lengths for training examples with a negative label.\n",
        "text_lengths_neg = [len(x) for (i, x) in enumerate(X_train) if not Y_train[i]]\n",
        "\n",
        "# The histogram function can take a list of inputs and corresponding labels.\n",
        "plt.hist([text_lengths_pos, text_lengths_neg], bins=20, range=(0, 1000),\n",
        "         label=['positive', 'negative'])\n",
        "plt.legend()\n",
        "plt.show()\n",
        "\n",
        "# Also check the longest reviews.\n",
        "print('Longest positive review:', max(text_lengths_pos))\n",
        "print('Longest negative review:', max(text_lengths_neg))"
      ]
    },
    {
      "cell_type": "markdown",
      "metadata": {
        "id": "c3ZE9gpkml3a"
      },
      "source": [
        "---\n",
        "### Exercise 1: Token Counts (20 points)\n",
        "For each of the given tokens, construct a table with the number of positive training examples that include that token and the number of negative training examples that include that token. For reference, here are the counts for the first two tokens:\n",
        "\n",
        "|Token|Pos Count|Neg Count|\n",
        "|-|-|-|\n",
        "|good|4767|4849|\n",
        "|bad|1491|4396|"
      ]
    },
    {
      "cell_type": "code",
      "execution_count": 6,
      "metadata": {
        "id": "8YOYo6d01aWI",
        "outputId": "47c835d3-6165-4452-917b-eca8d6255f68",
        "colab": {
          "base_uri": "https://localhost:8080/",
          "height": 238
        }
      },
      "outputs": [
        {
          "output_type": "execute_result",
          "data": {
            "text/plain": [
              "     Token Pos Count Neg Count\n",
              "0     good      4767      4849\n",
              "1      bad      1491      4396\n",
              "2  amazing       868       240\n",
              "3   boring       301      1205\n",
              "4    laugh       525       685\n",
              "5      cry       231       114"
            ],
            "text/html": [
              "\n",
              "\n",
              "  <div id=\"df-8e9d4a9d-cd93-420a-9189-affdcbe22ae4\">\n",
              "    <div class=\"colab-df-container\">\n",
              "      <div>\n",
              "<style scoped>\n",
              "    .dataframe tbody tr th:only-of-type {\n",
              "        vertical-align: middle;\n",
              "    }\n",
              "\n",
              "    .dataframe tbody tr th {\n",
              "        vertical-align: top;\n",
              "    }\n",
              "\n",
              "    .dataframe thead th {\n",
              "        text-align: right;\n",
              "    }\n",
              "</style>\n",
              "<table border=\"1\" class=\"dataframe\">\n",
              "  <thead>\n",
              "    <tr style=\"text-align: right;\">\n",
              "      <th></th>\n",
              "      <th>Token</th>\n",
              "      <th>Pos Count</th>\n",
              "      <th>Neg Count</th>\n",
              "    </tr>\n",
              "  </thead>\n",
              "  <tbody>\n",
              "    <tr>\n",
              "      <th>0</th>\n",
              "      <td>good</td>\n",
              "      <td>4767</td>\n",
              "      <td>4849</td>\n",
              "    </tr>\n",
              "    <tr>\n",
              "      <th>1</th>\n",
              "      <td>bad</td>\n",
              "      <td>1491</td>\n",
              "      <td>4396</td>\n",
              "    </tr>\n",
              "    <tr>\n",
              "      <th>2</th>\n",
              "      <td>amazing</td>\n",
              "      <td>868</td>\n",
              "      <td>240</td>\n",
              "    </tr>\n",
              "    <tr>\n",
              "      <th>3</th>\n",
              "      <td>boring</td>\n",
              "      <td>301</td>\n",
              "      <td>1205</td>\n",
              "    </tr>\n",
              "    <tr>\n",
              "      <th>4</th>\n",
              "      <td>laugh</td>\n",
              "      <td>525</td>\n",
              "      <td>685</td>\n",
              "    </tr>\n",
              "    <tr>\n",
              "      <th>5</th>\n",
              "      <td>cry</td>\n",
              "      <td>231</td>\n",
              "      <td>114</td>\n",
              "    </tr>\n",
              "  </tbody>\n",
              "</table>\n",
              "</div>\n",
              "      <button class=\"colab-df-convert\" onclick=\"convertToInteractive('df-8e9d4a9d-cd93-420a-9189-affdcbe22ae4')\"\n",
              "              title=\"Convert this dataframe to an interactive table.\"\n",
              "              style=\"display:none;\">\n",
              "\n",
              "  <svg xmlns=\"http://www.w3.org/2000/svg\" height=\"24px\"viewBox=\"0 0 24 24\"\n",
              "       width=\"24px\">\n",
              "    <path d=\"M0 0h24v24H0V0z\" fill=\"none\"/>\n",
              "    <path d=\"M18.56 5.44l.94 2.06.94-2.06 2.06-.94-2.06-.94-.94-2.06-.94 2.06-2.06.94zm-11 1L8.5 8.5l.94-2.06 2.06-.94-2.06-.94L8.5 2.5l-.94 2.06-2.06.94zm10 10l.94 2.06.94-2.06 2.06-.94-2.06-.94-.94-2.06-.94 2.06-2.06.94z\"/><path d=\"M17.41 7.96l-1.37-1.37c-.4-.4-.92-.59-1.43-.59-.52 0-1.04.2-1.43.59L10.3 9.45l-7.72 7.72c-.78.78-.78 2.05 0 2.83L4 21.41c.39.39.9.59 1.41.59.51 0 1.02-.2 1.41-.59l7.78-7.78 2.81-2.81c.8-.78.8-2.07 0-2.86zM5.41 20L4 18.59l7.72-7.72 1.47 1.35L5.41 20z\"/>\n",
              "  </svg>\n",
              "      </button>\n",
              "\n",
              "\n",
              "\n",
              "    <div id=\"df-0890b3aa-baec-4638-aaa0-a5d2552e0ca3\">\n",
              "      <button class=\"colab-df-quickchart\" onclick=\"quickchart('df-0890b3aa-baec-4638-aaa0-a5d2552e0ca3')\"\n",
              "              title=\"Suggest charts.\"\n",
              "              style=\"display:none;\">\n",
              "\n",
              "<svg xmlns=\"http://www.w3.org/2000/svg\" height=\"24px\"viewBox=\"0 0 24 24\"\n",
              "     width=\"24px\">\n",
              "    <g>\n",
              "        <path d=\"M19 3H5c-1.1 0-2 .9-2 2v14c0 1.1.9 2 2 2h14c1.1 0 2-.9 2-2V5c0-1.1-.9-2-2-2zM9 17H7v-7h2v7zm4 0h-2V7h2v10zm4 0h-2v-4h2v4z\"/>\n",
              "    </g>\n",
              "</svg>\n",
              "      </button>\n",
              "    </div>\n",
              "\n",
              "<style>\n",
              "  .colab-df-quickchart {\n",
              "    background-color: #E8F0FE;\n",
              "    border: none;\n",
              "    border-radius: 50%;\n",
              "    cursor: pointer;\n",
              "    display: none;\n",
              "    fill: #1967D2;\n",
              "    height: 32px;\n",
              "    padding: 0 0 0 0;\n",
              "    width: 32px;\n",
              "  }\n",
              "\n",
              "  .colab-df-quickchart:hover {\n",
              "    background-color: #E2EBFA;\n",
              "    box-shadow: 0px 1px 2px rgba(60, 64, 67, 0.3), 0px 1px 3px 1px rgba(60, 64, 67, 0.15);\n",
              "    fill: #174EA6;\n",
              "  }\n",
              "\n",
              "  [theme=dark] .colab-df-quickchart {\n",
              "    background-color: #3B4455;\n",
              "    fill: #D2E3FC;\n",
              "  }\n",
              "\n",
              "  [theme=dark] .colab-df-quickchart:hover {\n",
              "    background-color: #434B5C;\n",
              "    box-shadow: 0px 1px 3px 1px rgba(0, 0, 0, 0.15);\n",
              "    filter: drop-shadow(0px 1px 2px rgba(0, 0, 0, 0.3));\n",
              "    fill: #FFFFFF;\n",
              "  }\n",
              "</style>\n",
              "\n",
              "    <script>\n",
              "      async function quickchart(key) {\n",
              "        const containerElement = document.querySelector('#' + key);\n",
              "        const charts = await google.colab.kernel.invokeFunction(\n",
              "            'suggestCharts', [key], {});\n",
              "      }\n",
              "    </script>\n",
              "\n",
              "      <script>\n",
              "\n",
              "function displayQuickchartButton(domScope) {\n",
              "  let quickchartButtonEl =\n",
              "    domScope.querySelector('#df-0890b3aa-baec-4638-aaa0-a5d2552e0ca3 button.colab-df-quickchart');\n",
              "  quickchartButtonEl.style.display =\n",
              "    google.colab.kernel.accessAllowed ? 'block' : 'none';\n",
              "}\n",
              "\n",
              "        displayQuickchartButton(document);\n",
              "      </script>\n",
              "      <style>\n",
              "    .colab-df-container {\n",
              "      display:flex;\n",
              "      flex-wrap:wrap;\n",
              "      gap: 12px;\n",
              "    }\n",
              "\n",
              "    .colab-df-convert {\n",
              "      background-color: #E8F0FE;\n",
              "      border: none;\n",
              "      border-radius: 50%;\n",
              "      cursor: pointer;\n",
              "      display: none;\n",
              "      fill: #1967D2;\n",
              "      height: 32px;\n",
              "      padding: 0 0 0 0;\n",
              "      width: 32px;\n",
              "    }\n",
              "\n",
              "    .colab-df-convert:hover {\n",
              "      background-color: #E2EBFA;\n",
              "      box-shadow: 0px 1px 2px rgba(60, 64, 67, 0.3), 0px 1px 3px 1px rgba(60, 64, 67, 0.15);\n",
              "      fill: #174EA6;\n",
              "    }\n",
              "\n",
              "    [theme=dark] .colab-df-convert {\n",
              "      background-color: #3B4455;\n",
              "      fill: #D2E3FC;\n",
              "    }\n",
              "\n",
              "    [theme=dark] .colab-df-convert:hover {\n",
              "      background-color: #434B5C;\n",
              "      box-shadow: 0px 1px 3px 1px rgba(0, 0, 0, 0.15);\n",
              "      filter: drop-shadow(0px 1px 2px rgba(0, 0, 0, 0.3));\n",
              "      fill: #FFFFFF;\n",
              "    }\n",
              "  </style>\n",
              "\n",
              "      <script>\n",
              "        const buttonEl =\n",
              "          document.querySelector('#df-8e9d4a9d-cd93-420a-9189-affdcbe22ae4 button.colab-df-convert');\n",
              "        buttonEl.style.display =\n",
              "          google.colab.kernel.accessAllowed ? 'block' : 'none';\n",
              "\n",
              "        async function convertToInteractive(key) {\n",
              "          const element = document.querySelector('#df-8e9d4a9d-cd93-420a-9189-affdcbe22ae4');\n",
              "          const dataTable =\n",
              "            await google.colab.kernel.invokeFunction('convertToInteractive',\n",
              "                                                     [key], {});\n",
              "          if (!dataTable) return;\n",
              "\n",
              "          const docLinkHtml = 'Like what you see? Visit the ' +\n",
              "            '<a target=\"_blank\" href=https://colab.research.google.com/notebooks/data_table.ipynb>data table notebook</a>'\n",
              "            + ' to learn more about interactive tables.';\n",
              "          element.innerHTML = '';\n",
              "          dataTable['output_type'] = 'display_data';\n",
              "          await google.colab.output.renderOutput(dataTable, element);\n",
              "          const docLink = document.createElement('div');\n",
              "          docLink.innerHTML = docLinkHtml;\n",
              "          element.appendChild(docLink);\n",
              "        }\n",
              "      </script>\n",
              "    </div>\n",
              "  </div>\n"
            ]
          },
          "metadata": {},
          "execution_count": 6
        }
      ],
      "source": [
        "tokens = ['good', 'bad', 'amazing', 'boring', 'laugh', 'cry']\n",
        "# YOUR CODE HERE\n",
        "\n",
        "res = pd.DataFrame(columns=['Token', 'Pos Count', 'Neg Count'])\n",
        "for token in tokens:\n",
        "    # Find the numerical index mapping for the word tokens\n",
        "    num = index.get(token)\n",
        "\n",
        "    poscount = negcount = 0\n",
        "    for (i, x) in enumerate(X_train):\n",
        "        if Y_train[i]:\n",
        "            if num in X_train[i]:\n",
        "                poscount += 1\n",
        "        else:\n",
        "            if num in X_train[i]:\n",
        "                negcount += 1\n",
        "\n",
        "    tmp = pd.DataFrame([[token,poscount,negcount]], columns=['Token','Pos Count','Neg Count'])\n",
        "    res = pd.concat([res, tmp], ignore_index=True)\n",
        "\n",
        "res"
      ]
    },
    {
      "cell_type": "markdown",
      "metadata": {
        "id": "BKXogQGSs2xe"
      },
      "source": [
        "---"
      ]
    },
    {
      "cell_type": "markdown",
      "metadata": {
        "id": "hhzt-LnQ1m8w"
      },
      "source": [
        "## Feature Representation\n",
        "Consider the difference between the pixel features we used for image classification and the text features we are now dealing with.\n",
        "\n",
        "An image had 784 pixel positions. At each position, there is a single value in [0,1] (after normalization).\n",
        "\n",
        "In contrast, a review has a variable number of ordered tokens (up to 2494 in the training examples). Each token occurs in a particular position. We can think of the token positions much like the 784 pixel positions, except that some of the trailing positions are empty, since review lengths vary.  At each token position, there is a single token, one of the 88587 entries in the vocabulary. So we can think of a review as a (2500, 90000) matrix: At each of ~2500 token positions, we have 1 of ~90000 token ids.\n",
        "\n",
        "This representation would have 2500 * 90000 = 225 million features -- quite a lot more complexity than the images, though as you'll see below, we will make some simplifying assumptions, reducing both the number of token positions and the number of vocabulary items."
      ]
    },
    {
      "cell_type": "markdown",
      "metadata": {
        "id": "Jm_F5JmWyfko"
      },
      "source": [
        "### Padding and Reduced Length\n",
        "As is clear from the length histogram, the current representation of the review text is a variable-length array. Since fixed-length arrays are easier to work with in Tensorflow, let's add special padding tokens at the end of each review until they are all the same length.\n",
        "\n",
        "We'll also use this operation to limit the number of token positions by truncating all reviews to a specified length. In the code below, as an example, we pad all training inputs to length 300."
      ]
    },
    {
      "cell_type": "code",
      "execution_count": 7,
      "metadata": {
        "colab": {
          "base_uri": "https://localhost:8080/"
        },
        "id": "a4ou8bSUCWOx",
        "outputId": "0451a211-0a86-41fc-b64f-21e20ae849f0"
      },
      "outputs": [
        {
          "output_type": "stream",
          "name": "stdout",
          "text": [
            "Length of X_train[0]: 218\n",
            "Length of X_train_padded[0]: 300\n",
            "[    1    14    22    16    43   530   973  1622  1385    65   458  4468\n",
            "    66  3941     4   173    36   256     5    25   100    43   838   112\n",
            "    50   670 22665     9    35   480   284     5   150     4   172   112\n",
            "   167 21631   336   385    39     4   172  4536  1111    17   546    38\n",
            "    13   447     4   192    50    16     6   147  2025    19    14    22\n",
            "     4  1920  4613   469     4    22    71    87    12    16    43   530\n",
            "    38    76    15    13  1247     4    22    17   515    17    12    16\n",
            "   626    18 19193     5    62   386    12     8   316     8   106     5\n",
            "     4  2223  5244    16   480    66  3785    33     4   130    12    16\n",
            "    38   619     5    25   124    51    36   135    48    25  1415    33\n",
            "     6    22    12   215    28    77    52     5    14   407    16    82\n",
            " 10311     8     4   107   117  5952    15   256     4 31050     7  3766\n",
            "     5   723    36    71    43   530   476    26   400   317    46     7\n",
            "     4 12118  1029    13   104    88     4   381    15   297    98    32\n",
            "  2071    56    26   141     6   194  7486    18     4   226    22    21\n",
            "   134   476    26   480     5   144    30  5535    18    51    36    28\n",
            "   224    92    25   104     4   226    65    16    38  1334    88    12\n",
            "    16   283     5    16  4472   113   103    32    15    16  5345    19\n",
            "   178    32     0     0     0     0     0     0     0     0     0     0\n",
            "     0     0     0     0     0     0     0     0     0     0     0     0\n",
            "     0     0     0     0     0     0     0     0     0     0     0     0\n",
            "     0     0     0     0     0     0     0     0     0     0     0     0\n",
            "     0     0     0     0     0     0     0     0     0     0     0     0\n",
            "     0     0     0     0     0     0     0     0     0     0     0     0\n",
            "     0     0     0     0     0     0     0     0     0     0     0     0]\n"
          ]
        }
      ],
      "source": [
        "def pad_data(sequences, max_length):\n",
        "  # Keras has a convenient utility for padding a sequence.\n",
        "  # Also make sure we get a numpy array rather than an array of lists.\n",
        "  return np.array(list(\n",
        "      tf.keras.preprocessing.sequence.pad_sequences(\n",
        "          sequences, maxlen=max_length, padding='post', value=0)))\n",
        "\n",
        "# Pad and truncate to 300 tokens.\n",
        "X_train_padded = pad_data(X_train, max_length=300)\n",
        "\n",
        "# Check the padded output.\n",
        "print('Length of X_train[0]:', len(X_train[0]))\n",
        "print('Length of X_train_padded[0]:', len(X_train_padded[0]))\n",
        "print(X_train_padded[0])"
      ]
    },
    {
      "cell_type": "markdown",
      "metadata": {
        "id": "lFEmcwBjL4e_"
      },
      "source": [
        "### Reduced Vocabulary\n",
        "We also want to be able to limit the vocabulary size. Since our padding function produces fixed-length sequences in a numpy matrix, we can use clever numpy indexing to efficiently replace all token ids larger than some value with the designated out-of-vocabulary (OOV) id.\n",
        "\n",
        "In the code below, as an example, we'll keep just token ids less than 1000, replacing all others with OOV."
      ]
    },
    {
      "cell_type": "code",
      "execution_count": 8,
      "metadata": {
        "colab": {
          "base_uri": "https://localhost:8080/"
        },
        "id": "21qpyEgGNQeB",
        "outputId": "a00dec92-72b4-45f0-c8d9-a4b0a0c9a693"
      },
      "outputs": [
        {
          "output_type": "stream",
          "name": "stdout",
          "text": [
            "[  1  14  22  16  43 530 973   2   2  65 458   2  66   2   4 173  36 256\n",
            "   5  25 100  43 838 112  50 670   2   9  35 480 284   5 150   4 172 112\n",
            " 167   2 336 385  39   4 172   2   2  17 546  38  13 447   4 192  50  16\n",
            "   6 147   2  19  14  22   4   2   2 469   4  22  71  87  12  16  43 530\n",
            "  38  76  15  13   2   4  22  17 515  17  12  16 626  18   2   5  62 386\n",
            "  12   8 316   8 106   5   4   2   2  16 480  66   2  33   4 130  12  16\n",
            "  38 619   5  25 124  51  36 135  48  25   2  33   6  22  12 215  28  77\n",
            "  52   5  14 407  16  82   2   8   4 107 117   2  15 256   4   2   7   2\n",
            "   5 723  36  71  43 530 476  26 400 317  46   7   4   2   2  13 104  88\n",
            "   4 381  15 297  98  32   2  56  26 141   6 194   2  18   4 226  22  21\n",
            " 134 476  26 480   5 144  30   2  18  51  36  28 224  92  25 104   4 226\n",
            "  65  16  38   2  88  12  16 283   5  16   2 113 103  32  15  16   2  19\n",
            " 178  32   0   0   0   0   0   0   0   0   0   0   0   0   0   0   0   0\n",
            "   0   0   0   0   0   0   0   0   0   0   0   0   0   0   0   0   0   0\n",
            "   0   0   0   0   0   0   0   0   0   0   0   0   0   0   0   0   0   0\n",
            "   0   0   0   0   0   0   0   0   0   0   0   0   0   0   0   0   0   0\n",
            "   0   0   0   0   0   0   0   0   0   0   0   0]\n",
            "<START> this film was just brilliant casting # # story direction # really # the part they played and you could just imagine being there robert # is an amazing actor and now the same being director # father came from the same # # as myself so i loved the fact there was a real # with this film the # # throughout the film were great it was just brilliant so much that i # the film as soon as it was released for # and would recommend it to everyone to watch and the # # was amazing really # at the end it was so sad and you know what they say if you # at a film it must have been good and this definitely was also # to the two little # that played the # of # and paul they were just brilliant children are often left out of the # # i think because the stars that play them all # up are such a big # for the whole film but these children are amazing and should be # for what they have done don't you think the whole story was so # because it was true and was # life after all that was # with us all # # # # # # # # # # # # # # # # # # # # # # # # # # # # # # # # # # # # # # # # # # # # # # # # # # # # # # # # # # # # # # # # # # # # # # # # # # # # # # # # # #\n"
          ]
        }
      ],
      "source": [
        "def limit_vocab(sequences, max_token_id, oov_id=2):\n",
        "  \"\"\"Replace token ids greater than or equal to max_token_id with the oov_id.\"\"\"\n",
        "  reduced_sequences = np.copy(sequences)\n",
        "  reduced_sequences[reduced_sequences >= max_token_id] = oov_id\n",
        "  return reduced_sequences\n",
        "\n",
        "# Reduce vocabulary to 1000 tokens.\n",
        "X_train_reduced = limit_vocab(X_train_padded, max_token_id=1000)\n",
        "print(X_train_reduced[0])\n",
        "\n",
        "# Decode to see what this looks like in tokens. Note the '#' for OOVs.\n",
        "print(decode(X_train_reduced[0]))"
      ]
    },
    {
      "cell_type": "markdown",
      "metadata": {
        "id": "d24mOPC6ybC4"
      },
      "source": [
        "### One-hot Encoding\n",
        "Our current feature representations are **sparse**. That is, we only keep track of the token ids that are present in the input. A **one-hot** encoding replaces a value like 22 (corresponding to 'film') with an array with a single 1 at position 22 and zeros everywhere else. This will be very memory-inefficient, but we'll do it anyway for clarity.\n",
        "\n",
        "As discussed above, let's dramatically reduce both the number of token positions (review length) and the number of token ids (vocabulary). We'll clip each review after 20 tokens (so 2500 -> 20) and keep only the most common 1000 tokens (so 90000 -> 1000)."
      ]
    },
    {
      "cell_type": "code",
      "execution_count": 9,
      "metadata": {
        "colab": {
          "base_uri": "https://localhost:8080/"
        },
        "id": "EXzkqVL3Jufj",
        "outputId": "83accab3-fb0d-48ff-e727-8f1cb4a3640a"
      },
      "outputs": [
        {
          "output_type": "stream",
          "name": "stdout",
          "text": [
            "X_train_one_hot shape: (25000, 20, 1000)\n"
          ]
        }
      ],
      "source": [
        "# Keras has a util to create one-hot encodings.\n",
        "X_train_padded = pad_data(X_train, max_length=20)\n",
        "X_train_reduced = limit_vocab(X_train_padded, max_token_id=1000)\n",
        "X_train_one_hot = tf.keras.utils.to_categorical(X_train_reduced)\n",
        "print('X_train_one_hot shape:', X_train_one_hot.shape)"
      ]
    },
    {
      "cell_type": "markdown",
      "metadata": {
        "id": "B5RvIN4w66Ej"
      },
      "source": [
        "Note the shape of the one-hot encoded features. For each of our 25000 training examples, we have a 20 x 1000 matrix. That is, for each of 20 token positions, we have a vector of 1000 elements containing a single 1 and 999 zeros.\n",
        "\n",
        "We can think of these 1000-dimensional one-hot arrays as **embeddings**. Each token in the input has a 1000-dimensional representation. But because of the one-hot setup, the distance between each pair of tokens is the same ([1,0,0,...], [0,1,0,...], etc.). By contrast, learned embeddings result in meaningful distances between pairs of tokens. We'll get to that soon."
      ]
    },
    {
      "cell_type": "markdown",
      "metadata": {
        "id": "296Cnt647b5c"
      },
      "source": [
        "## Logistic Regression with One-Hot Encodings\n",
        "Let's start with something familiar -- logistic regression. Since our feature representation is in 2 dimensions (20 x 1000), we need to flatten it to pass it to Keras (remember we did this with the pixel data too). Let's try two strategies for flattening.\n",
        "\n",
        "1. Flatten by *concatenating* (as we did with pixels), turning (20 x 1000) data into (20000,) data. The result is a separate feature for each token at each position.\n",
        "2. Flatten by *averaging* over token positions, turning (20 x 1000) data into (1000,) data. The result is an array with average token counts, ignoring position.\n",
        "\n",
        "NOTE: Our prior assignments have used the standard Stochastic Gradient Descent (SGD) optimizer to compute the gradient from an estimate of the loss (based on the current mini-batch). There are many alternative optimizers. Here we'll use the **Adam** optimizer, which sometimes gives better results. One key characteristic of Adam is that it effectively uses a different learning rate for each parameter rather than a fixed learning rate as in SGD."
      ]
    },
    {
      "cell_type": "code",
      "execution_count": 10,
      "metadata": {
        "id": "6m6eebM-0dUW"
      },
      "outputs": [],
      "source": [
        "def build_onehot_model(average_over_positions=False):\n",
        "  \"\"\"Build a tf.keras model for one-hot data.\"\"\"\n",
        "  # Clear session and remove randomness.\n",
        "  tf.keras.backend.clear_session()\n",
        "  tf.random.set_seed(0)\n",
        "\n",
        "  model = tf.keras.Sequential()\n",
        "  if average_over_positions:\n",
        "    # This layer averages over the first dimension of the input by default.\n",
        "    model.add(tf.keras.layers.GlobalAveragePooling1D())\n",
        "  else:\n",
        "    # Concatenate.\n",
        "    model.add(tf.keras.layers.Flatten())\n",
        "  model.add(tf.keras.layers.Dense(\n",
        "      units=1,                     # output dim (for binary classification)\n",
        "      activation=\"sigmoid\"         # sigmoid activation for classification\n",
        "  ))\n",
        "\n",
        "  model.compile(loss='binary_crossentropy',   # this is a classification task\n",
        "                optimizer='adam',             # fancy optimizer\n",
        "                metrics=['accuracy'])\n",
        "\n",
        "  return model"
      ]
    },
    {
      "cell_type": "markdown",
      "metadata": {
        "id": "NY3W_1-OSZ2X"
      },
      "source": [
        "Now let's try fitting the model to our training data and check performance metrics on the validation (held-out) data. But first, here's a function for plotting the learning curves given the training history object we get from Keras."
      ]
    },
    {
      "cell_type": "code",
      "execution_count": 11,
      "metadata": {
        "id": "cOVmajSuMjN6"
      },
      "outputs": [],
      "source": [
        "def plot_history(history):\n",
        "  plt.ylabel('Loss')\n",
        "  plt.xlabel('Epoch')\n",
        "  plt.xticks(range(0, len(history['loss'] + 1)))\n",
        "  plt.plot(history['loss'], label=\"training\", marker='o')\n",
        "  plt.plot(history['val_loss'], label=\"validation\", marker='o')\n",
        "  plt.legend()\n",
        "  plt.show()"
      ]
    },
    {
      "cell_type": "code",
      "execution_count": 21,
      "metadata": {
        "colab": {
          "base_uri": "https://localhost:8080/",
          "height": 880
        },
        "id": "MyE4PgX70_op",
        "outputId": "3f348554-7920-479e-fb42-fd28c4782d17"
      },
      "outputs": [
        {
          "output_type": "stream",
          "name": "stdout",
          "text": [
            "Epoch 1/5\n",
            "352/352 [==============================] - 4s 8ms/step - loss: 0.6788 - accuracy: 0.6117 - val_loss: 0.6661 - val_accuracy: 0.6572\n",
            "Epoch 2/5\n",
            "352/352 [==============================] - 2s 7ms/step - loss: 0.6335 - accuracy: 0.7422 - val_loss: 0.6455 - val_accuracy: 0.6716\n",
            "Epoch 3/5\n",
            "352/352 [==============================] - 2s 6ms/step - loss: 0.5969 - accuracy: 0.7741 - val_loss: 0.6294 - val_accuracy: 0.6704\n",
            "Epoch 4/5\n",
            "352/352 [==============================] - 2s 6ms/step - loss: 0.5667 - accuracy: 0.7968 - val_loss: 0.6182 - val_accuracy: 0.6780\n",
            "Epoch 5/5\n",
            "352/352 [==============================] - 2s 6ms/step - loss: 0.5411 - accuracy: 0.8098 - val_loss: 0.6091 - val_accuracy: 0.6816\n",
            "Model: \"sequential\"\n",
            "_________________________________________________________________\n",
            " Layer (type)                Output Shape              Param #   \n",
            "=================================================================\n",
            " flatten (Flatten)           (None, 20000)             0         \n",
            "                                                                 \n",
            " dense (Dense)               (None, 1)                 20001     \n",
            "                                                                 \n",
            "=================================================================\n",
            "Total params: 20,001\n",
            "Trainable params: 20,001\n",
            "Non-trainable params: 0\n",
            "_________________________________________________________________\n"
          ]
        },
        {
          "output_type": "display_data",
          "data": {
            "text/plain": [
              "<Figure size 640x480 with 1 Axes>"
            ],
            "image/png": "[encoded data removed]"
          },
          "metadata": {}
        }
      ],
      "source": [
        "model = build_onehot_model(average_over_positions=False)\n",
        "\n",
        "# Fit the model.\n",
        "history = model.fit(\n",
        "  x = X_train_one_hot,  # one-hot training data\n",
        "  y = Y_train,          # corresponding binary labels\n",
        "  epochs=5,             # number of passes through the training data\n",
        "  batch_size=64,        # mini-batch size\n",
        "  validation_split=0.1, # use a fraction of the examples for validation\n",
        "  verbose=1             # display some progress output during training\n",
        "  )\n",
        "\n",
        "model.summary()\n",
        "# Convert the return value into a DataFrame so we can see the train loss\n",
        "# and binary accuracy after every epoch.\n",
        "history = pd.DataFrame(history.history)\n",
        "plot_history(history)"
      ]
    },
    {
      "cell_type": "markdown",
      "metadata": {
        "id": "QuCh9aQPv7F_"
      },
      "source": [
        "---\n",
        "### Exercise 2: Comparing logistic regrerssion models (20 points)\n",
        "Train the one-hot model using both the concatenating and the averaging strategies and compare the results. Let's call these *LR-C* (Logistic Regression Concatenating) and *LR-A* (Logistic Regression Averaging). Then answer the following questions:\n",
        "\n",
        "1. What are the final training and validation accuracies for LR-C and LR-A?\n",
        "2. How many parameters are there in each model?\n",
        "3. Would you say that either model is overfitting? Why or why not?\n",
        "4. Briefly describe how LR-C differs from LR-A. How do you explain the relationship between their respective validation accuracy results?"
      ]
    },
    {
      "cell_type": "markdown",
      "metadata": {
        "id": "CEAN5BejHc__"
      },
      "source": [
        "*Written answers:*\n",
        "\n",
        "1.\n",
        "\n",
        "  * LR-C: Training accuracy: 0.8090  Validation accuracy: 0.6864\n",
        "  * LR-A: Training accuracy: 0.6992  Validation accuracy: 0.6916\n",
        "\n",
        "2.\n",
        "\n",
        "  * LR-C: 20001 parameters\n",
        "  * LR-A:  1001 parameters\n",
        "\n",
        "3. LR-C model seems to be overfitting, since its training accuracy is much higher compared to the validation accuracy.\n",
        "\n",
        "4.\n",
        "\n",
        "The LR-C model preserves positional information of the tokens at the cost of increased parameter count. \\\n",
        "The LR-A model keeps a frequency count of the token thereby losing positional accuracy, but gains by having a smaller parameter count.\n",
        "    \n",
        "The LR-C model is able to train well to similar sequence of tokens in training data. Hence the training accuracy is high. However, it is not able to achieve the same accuracy on validation data. Meaning the training in LR-C is not generalizable enough. \\\n",
        "The LR-A model uses frequency count of tokens to determine outcome. Since we have lost positional context, there is a general decrease in training accuracy relative to LR-C. However, the validation accuracy closely mirrors the training accuracy perhaps because the  counts of certain frequently occuring words ('is', 'the', 'of' etc.) are common to both postive/negative reviews. The relative differences in vocabulary between postive and negative review comments do not get weighted adequately. Thus accuracy of prediction in LR-A is lower compared to LR-C\n"
      ]
    },
    {
      "cell_type": "markdown",
      "metadata": {
        "id": "jwTiy1Ibs2xo"
      },
      "source": [
        "---"
      ]
    },
    {
      "cell_type": "markdown",
      "metadata": {
        "id": "sJIBRqK7lsjG"
      },
      "source": [
        "## Logistic Regression with Embeddings\n",
        "Next, let's train model that replaces one-hot representations of each token with learned embeddings.\n",
        "\n",
        "The code below uses a Keras Embedding layer, which expects to receive a sparse (rather than one-hot) representation. That is, it expects a (padded) sequence of token ids; for each id, it looks up the corresponding embedding vector."
      ]
    },
    {
      "cell_type": "code",
      "execution_count": 13,
      "metadata": {
        "id": "ho6uOeCaBs2e"
      },
      "outputs": [],
      "source": [
        "def build_embeddings_model(average_over_positions=False,\n",
        "                           vocab_size=1000,\n",
        "                           sequence_length=20,\n",
        "                           embedding_dim=2):\n",
        "  \"\"\"Build a tf.keras model using embeddings.\"\"\"\n",
        "  # Clear session and remove randomness.\n",
        "  tf.keras.backend.clear_session()\n",
        "  tf.random.set_seed(0)\n",
        "\n",
        "  model = tf.keras.Sequential()\n",
        "  model.add(tf.keras.layers.Embedding(\n",
        "      input_dim=vocab_size,\n",
        "      output_dim=embedding_dim,\n",
        "      input_length=sequence_length)\n",
        "  )\n",
        "\n",
        "  if average_over_positions:\n",
        "    # This layer averages over the first dimension of the input by default.\n",
        "    model.add(tf.keras.layers.GlobalAveragePooling1D())\n",
        "  else:\n",
        "    # Concatenate.\n",
        "    model.add(tf.keras.layers.Flatten())\n",
        "  model.add(tf.keras.layers.Dense(\n",
        "      units=1,                     # output dim (for binary classification)\n",
        "      activation='sigmoid'         # apply the sigmoid function!\n",
        "  ))\n",
        "\n",
        "  model.compile(loss='binary_crossentropy',\n",
        "                optimizer='adam',\n",
        "                metrics=['accuracy'])\n",
        "\n",
        "  return model"
      ]
    },
    {
      "cell_type": "markdown",
      "metadata": {
        "id": "eyhoEjAiFSNB"
      },
      "source": [
        "Try training the model as before. We'll use the averaging strategy rather than the concatenating strategy for dealing with the token sequence. That is, we'll look up embedding vectors for each token. Then we'll average them to produce a single vector. Then we'll traing a logistic regression with that vector as input to predict the binary label."
      ]
    },
    {
      "cell_type": "code",
      "execution_count": 14,
      "metadata": {
        "colab": {
          "base_uri": "https://localhost:8080/",
          "height": 642
        },
        "id": "uYUE5UwkxoU8",
        "outputId": "50208db3-251b-4097-fcb2-c1687a2da41e"
      },
      "outputs": [
        {
          "output_type": "stream",
          "name": "stdout",
          "text": [
            "Epoch 1/5\n",
            "352/352 [==============================] - 2s 2ms/step - loss: 0.6905 - accuracy: 0.6225 - val_loss: 0.6853 - val_accuracy: 0.6616\n",
            "Epoch 2/5\n",
            "352/352 [==============================] - 1s 2ms/step - loss: 0.6742 - accuracy: 0.6876 - val_loss: 0.6641 - val_accuracy: 0.6872\n",
            "Epoch 3/5\n",
            "352/352 [==============================] - 1s 2ms/step - loss: 0.6478 - accuracy: 0.6991 - val_loss: 0.6378 - val_accuracy: 0.6988\n",
            "Epoch 4/5\n",
            "352/352 [==============================] - 1s 2ms/step - loss: 0.6201 - accuracy: 0.7116 - val_loss: 0.6142 - val_accuracy: 0.7044\n",
            "Epoch 5/5\n",
            "352/352 [==============================] - 1s 2ms/step - loss: 0.5955 - accuracy: 0.7180 - val_loss: 0.5949 - val_accuracy: 0.7104\n"
          ]
        },
        {
          "output_type": "display_data",
          "data": {
            "text/plain": [
              "<Figure size 640x480 with 1 Axes>"
            ],
            "image/png": "[encoded data removed]"
          },
          "metadata": {}
        }
      ],
      "source": [
        "model = build_embeddings_model(average_over_positions=True,\n",
        "                               vocab_size=1000,\n",
        "                               sequence_length=20,\n",
        "                               embedding_dim=2)\n",
        "history = model.fit(\n",
        "  x = X_train_reduced,  # our sparse padded training data\n",
        "  y = Y_train,          # corresponding binary labels\n",
        "  epochs=5,             # number of passes through the training data\n",
        "  batch_size=64,        # mini-batch size\n",
        "  validation_split=0.1, # use a fraction of the examples for validation\n",
        "  verbose=1             # display some progress output during training\n",
        "  )\n",
        "\n",
        "history = pd.DataFrame(history.history)\n",
        "plot_history(history)"
      ]
    },
    {
      "cell_type": "markdown",
      "metadata": {
        "id": "V3k__61hFnag"
      },
      "source": [
        "---\n",
        "### Exercise 3: Experiments with embeddings (20 points)\n",
        "Train 6 models with embedding sizes in [2,4,8,16,32,64], keeping other settings fixed. Use the averaging strategy rather than the concatenating strategy.\n",
        "\n",
        "1. Construct a table with the training and validation accuracies of each model (after 5 training epochs).\n",
        "2. Compute the number of parameters in each model.\n",
        "3. Do learned embeddings appear to provide improved performance over the one-hot encoding? Why?"
      ]
    },
    {
      "cell_type": "code",
      "execution_count": 15,
      "metadata": {
        "id": "PDpovZIrs2xq",
        "outputId": "55bfed53-be38-4488-9488-4a775feaeb6d",
        "colab": {
          "base_uri": "https://localhost:8080/"
        }
      },
      "outputs": [
        {
          "output_type": "stream",
          "name": "stdout",
          "text": [
            " Embedding size  Training Accuracy  Validation Accuracy\n",
            "              2           0.722400               0.7124\n",
            "              4           0.730800               0.7180\n",
            "              8           0.740667               0.7212\n",
            "             16           0.748711               0.7292\n",
            "             32           0.752267               0.7292\n",
            "             64           0.755156               0.7288\n",
            " Embedding size  Parameters\n",
            "              2        2003\n",
            "              4        4005\n",
            "              8        8009\n",
            "             16       16017\n",
            "             32       32033\n",
            "             64       64065\n"
          ]
        }
      ],
      "source": [
        "\n",
        "    from keras.utils.layer_utils import count_params\n",
        "    embed_sizes = [2, 4, 8, 16, 32, 64]\n",
        "    no_of_epochs = 5\n",
        "    col_names =  ['Embedding size', 'Training Accuracy', 'Validation Accuracy', 'Parameters']\n",
        "    metrics_df = pd.DataFrame(columns = col_names)\n",
        "\n",
        "    for size in embed_sizes:\n",
        "        model = build_embeddings_model(average_over_positions=True,\n",
        "                                   vocab_size=1000,\n",
        "                                   sequence_length=20,\n",
        "                                   embedding_dim=size)\n",
        "\n",
        "        history = model.fit(\n",
        "          x = X_train_reduced,  # our sparse padded training data\n",
        "          y = Y_train,          # corresponding binary labels\n",
        "          epochs=no_of_epochs,             # number of passes through the training data\n",
        "          batch_size=64,        # mini-batch size\n",
        "          validation_split=0.1, # use a fraction of the examples for validation\n",
        "          verbose=0             # display some progress output during training\n",
        "        )\n",
        "\n",
        "        history = pd.DataFrame(history.history)\n",
        "        trainable_count = count_params(model.trainable_weights)\n",
        "        non_trainable_count = count_params(model.non_trainable_weights)\n",
        "        total_count = trainable_count + non_trainable_count\n",
        "\n",
        "        metrics_df.loc[len(metrics_df)] = {'Embedding size':size,\n",
        "                                           'Training Accuracy': history['accuracy'][no_of_epochs-1],\n",
        "                                           'Validation Accuracy': history['val_accuracy'][no_of_epochs-1],\n",
        "                                           'Parameters': total_count}\n",
        "    print(metrics_df[['Embedding size', 'Training Accuracy', 'Validation Accuracy']].to_string(index=False))\n",
        "    print(metrics_df[['Embedding size', 'Parameters']].to_string(index=False))\n",
        "\n"
      ]
    },
    {
      "cell_type": "markdown",
      "metadata": {
        "id": "O7t46ZdX2ofd"
      },
      "source": [
        "*Written answers:*\n",
        "\n",
        "1. See above output\n",
        "2. See about output\n",
        "3.\n",
        "  * Word representations using one-hot encoding are sparse, high-dimensional and hardcoded. Vector representations of one-hot encoding grows with the size of the vocabulary.\n",
        "\n",
        "  * Word embeddings are dense, relatively low-dimensional, and learned from data (i.e. trainable). Thus word embeddings are able to train much faster than one-hot encoded representations.\n"
      ]
    },
    {
      "cell_type": "markdown",
      "metadata": {
        "id": "oEmrt-pBs2xq"
      },
      "source": [
        "---"
      ]
    },
    {
      "cell_type": "markdown",
      "metadata": {
        "id": "i2dWOuxqKHA6"
      },
      "source": [
        "## Inspecting Learned Embeddings\n",
        "Let's retrieve the learned embedding parameters from the trained model and plot the token embeddings.\n",
        "\n",
        "The model layers in a Keras Sequential model are stored as a list and the embeddings are the first layer. We can use the get_weights() function to get a numpy array with the parameters."
      ]
    },
    {
      "cell_type": "code",
      "execution_count": 16,
      "metadata": {
        "colab": {
          "base_uri": "https://localhost:8080/",
          "height": 90
        },
        "id": "bfsbGSwkaFjo",
        "outputId": "ddc7575f-5424-40d1-9900-11fab4ee010e"
      },
      "outputs": [
        {
          "output_type": "display_data",
          "data": {
            "text/plain": [
              "[<keras.layers.core.embedding.Embedding at 0x7839b14fc400>,\n",
              " <keras.layers.pooling.global_average_pooling1d.GlobalAveragePooling1D at 0x7839b08a5c90>,\n",
              " <keras.layers.core.dense.Dense at 0x7839b07df820>]"
            ]
          },
          "metadata": {}
        },
        {
          "output_type": "display_data",
          "data": {
            "text/plain": [
              "(1000, 64)"
            ]
          },
          "metadata": {}
        }
      ],
      "source": [
        "# Display the model layers.\n",
        "display(model.layers)\n",
        "\n",
        "# Retrieve the embeddings layer, which itself is wrapped in a list.\n",
        "embeddings = model.layers[0].get_weights()[0]\n",
        "display(embeddings.shape)"
      ]
    },
    {
      "cell_type": "markdown",
      "metadata": {
        "id": "apPWscNwcXTE"
      },
      "source": [
        "Now we'll use a fancy plotting tool called *plotly* to show the embeddings with hovertext so you can move your mouse over the points to see the corresponding tokens."
      ]
    },
    {
      "cell_type": "code",
      "execution_count": 17,
      "metadata": {
        "colab": {
          "base_uri": "https://localhost:8080/",
          "height": 542
        },
        "id": "5RZMTrA0KttL",
        "outputId": "4308d8a8-c21d-4c7c-a1cc-bcd92948feb4"
      },
      "outputs": [
        {
          "output_type": "display_data",
          "data": {
            "text/html": [
              "<html>\n",
              "<head><meta charset=\"utf-8\" /></head>\n",
              "<body>\n",
              "    <div>            <script src=\"https://cdnjs.cloudflare.com/ajax/libs/mathjax/2.7.5/MathJax.js?config=TeX-AMS-MML_SVG\"></script><script type=\"text/javascript\">if (window.MathJax && window.MathJax.Hub && window.MathJax.Hub.Config) {window.MathJax.Hub.Config({SVG: {font: \"STIX-Web\"}});}</script>                <script type=\"text/javascript\">window.PlotlyConfig = {MathJaxConfig: 'local'};</script>\n",
              "        <script src=\"https://cdn.plot.ly/plotly-2.18.2.min.js\"></script>                <div id=\"eea741ec-6e21-4396-8036-aedbc291033b\" class=\"plotly-graph-div\" style=\"height:525px; width:100%;\"></div>            <script type=\"text/javascript\">                                    window.PLOTLYENV=window.PLOTLYENV || {};                                    if (document.getElementById(\"eea741ec-6e21-4396-8036-aedbc291033b\")) {                    Plotly.newPlot(                        \"eea741ec-6e21-4396-8036-aedbc291033b\",                        [{\"hoverinfo\":\"text\",\"mode\":\"markers\",\"text\":[\"game\",\"past\",\"able\",\"b\",\"days\",\"turns\",\"child\",\"they're\",\"hand\",\"flick\",\"enjoyed\",\"act\",\"genre\",\"town\",\"favorite\",\"soon\",\"kill\",\"starts\",\"sometimes\",\"car\",\"gave\",\"run\",\"late\",\"eyes\",\"actress\",\"etc\",\"directed\",\"horrible\",\"won't\",\"viewer\",\"brilliant\",\"parts\",\"self\",\"themselves\",\"hour\",\"expect\",\"thinking\",\"stories\",\"stuff\",\"girls\",\"obviously\",\"blood\",\"decent\",\"city\",\"voice\",\"highly\",\"myself\",\"feeling\",\"fight\",\"except\",\"slow\",\"matter\",\"type\",\"anyway\",\"kid\",\"roles\",\"killed\",\"heard\",\"god\",\"age\",\"says\",\"moment\",\"took\",\"leave\",\"writer\",\"strong\",\"cannot\",\"violence\",\"police\",\"hit\",\"stop\",\"happens\",\"particularly\",\"known\",\"involved\",\"happened\",\"extremely\",\"daughter\",\"obvious\",\"told\",\"chance\",\"living\",\"coming\",\"lack\",\"alone\",\"experience\",\"wouldn't\",\"including\",\"murder\",\"attempt\",\"s\",\"please\",\"james\",\"happen\",\"wonder\",\"crap\",\"ago\",\"brother\",\"film's\",\"gore\",\"none\",\"complete\",\"interest\",\"score\",\"group\",\"cut\",\"simple\",\"save\",\"ok\",\"hell\",\"looked\",\"career\",\"number\",\"song\",\"possible\",\"seriously\",\"annoying\",\"shown\",\"exactly\",\"sad\",\"running\",\"musical\",\"serious\",\"taken\",\"yourself\",\"whose\",\"released\",\"cinematography\",\"david\",\"scary\",\"ends\",\"english\",\"hero\",\"usually\",\"hours\",\"reality\",\"opening\",\"i'll\",\"across\",\"today\",\"jokes\",\"light\",\"hilarious\",\"somewhat\",\"usual\",\"started\",\"cool\",\"ridiculous\",\"body\",\"relationship\",\"view\",\"level\",\"opinion\",\"change\",\"happy\",\"middle\",\"taking\",\"wish\",\"husband\",\"finds\",\"saying\",\"order\",\"talking\",\"ones\",\"documentary\",\"shots\",\"huge\",\"novel\",\"female\",\"mostly\",\"robert\",\"power\",\"episodes\",\"room\",\"important\",\"rating\",\"talent\",\"five\",\"major\",\"turned\",\"strange\",\"word\",\"modern\",\"call\",\"apparently\",\"disappointed\",\"single\",\"events\",\"due\",\"four\",\"songs\",\"basically\",\"attention\",\"7\",\"knows\",\"clearly\",\"supporting\",\"knew\",\"british\",\"television\",\"comic\",\"non\",\"fast\",\"earth\",\"country\",\"future\",\"cheap\",\"class\",\"thriller\",\"8\",\"silly\",\"king\",\"problems\",\"aren't\",\"easily\",\"words\",\"tells\",\"miss\",\"jack\",\"local\",\"sequence\",\"bring\",\"entertainment\",\"paul\",\"beyond\",\"upon\",\"whether\",\"predictable\",\"moving\",\"similar\",\"straight\",\"romantic\",\"sets\",\"review\",\"falls\",\"oscar\",\"mystery\",\"enjoyable\",\"needs\",\"appears\",\"talk\",\"rock\",\"george\",\"giving\",\"eye\",\"richard\",\"within\",\"ten\",\"animation\",\"message\",\"theater\",\"near\",\"above\",\"dull\",\"nearly\",\"sequel\",\"theme\",\"points\",\"'\",\"stand\",\"mention\",\"lady\",\"bunch\",\"add\",\"feels\",\"herself\",\"release\",\"red\",\"team\",\"storyline\",\"surprised\",\"ways\",\"using\",\"named\",\"haven't\",\"lots\",\"easy\",\"fantastic\",\"begins\",\"actual\",\"working\",\"effort\",\"york\",\"die\",\"hate\",\"french\",\"minute\",\"tale\",\"clear\",\"stay\",\"9\",\"elements\",\"feature\",\"among\",\"follow\",\"comments\",\"re\",\"viewers\",\"avoid\",\"sister\",\"showing\",\"typical\",\"editing\",\"what's\",\"famous\",\"tried\",\"sorry\",\"dialog\",\"check\",\"fall\",\"period\",\"season\",\"form\",\"certain\",\"filmed\",\"weak\",\"soundtrack\",\"means\",\"buy\",\"material\",\"somehow\",\"realistic\",\"figure\",\"crime\",\"doubt\",\"gone\",\"peter\",\"tom\",\"kept\",\"viewing\",\"t\",\"general\",\"leads\",\"greatest\",\"space\",\"lame\",\"suspense\",\"dance\",\"imagine\",\"brought\",\"third\",\"atmosphere\",\"hear\",\"particular\",\"sequences\",\"whatever\",\"parents\",\"move\",\"lee\",\"indeed\",\"learn\",\"rent\",\"de\",\"eventually\",\"note\",\"deal\",\"average\",\"reviews\",\"wait\",\"forget\",\"japanese\",\"sexual\",\"poorly\",\"premise\",\"okay\",\"zombie\",\"surprise\",\"believable\",\"stage\",\"possibly\",\"sit\",\"who's\",\"decided\",\"expected\",\"you've\",\"subject\",\"nature\",\"became\",\"difficult\",\"free\",\"killing\",\"screenplay\",\"truth\",\"romance\",\"dr\",\"nor\",\"reading\",\"needed\",\"question\",\"leaves\",\"street\",\"20\",\"meets\",\"hot\",\"unless\",\"begin\",\"baby\",\"superb\",\"credits\",\"imdb\",\"otherwise\",\"write\",\"shame\",\"let's\",\"situation\",\"dramatic\",\"memorable\",\"directors\",\"earlier\",\"meet\",\"disney\",\"open\",\"dog\",\"badly\",\"joe\",\"male\",\"weird\",\"acted\",\"forced\",\"laughs\",\"sci\",\"emotional\",\"older\",\"realize\",\"fi\",\"dream\",\"society\",\"writers\",\"interested\",\"footage\",\"forward\",\"comment\",\"crazy\",\"deep\",\"sounds\",\"plus\",\"beauty\",\"whom\",\"america\",\"fantasy\",\"directing\",\"keeps\",\"ask\",\"development\",\"features\",\"air\",\"quickly\",\"mess\",\"creepy\",\"towards\",\"perfectly\",\"mark\",\"worked\",\"box\",\"cheesy\",\"unique\",\"setting\",\"hands\",\"plenty\",\"result\",\"previous\",\"brings\",\"effect\",\"e\",\"total\",\"personal\",\"incredibly\",\"rate\",\"fire\",\"monster\",\"business\",\"leading\",\"apart\",\"casting\",\"admit\",\"joke\",\"powerful\",\"appear\",\"background\",\"telling\",\"girlfriend\",\"meant\",\"christmas\",\"hardly\",\"present\",\"battle\",\"potential\",\"create\",\"bill\",\"break\",\"pay\",\"masterpiece\",\"gay\",\"political\",\"return\",\"dumb\",\"fails\",\"fighting\",\"various\",\"era\"],\"textposition\":\"bottom left\",\"x\":[-0.08950216323137283,-0.08230352401733398,-0.016184495761990547,0.04677288234233856,-0.11030498147010803,0.0055698212236166,-0.029598290100693703,0.06471650302410126,0.21267879009246826,0.04826395958662033,-0.2650253176689148,0.08338841795921326,-0.08541594445705414,0.023019226267933846,-0.3758922517299652,-0.11222729086875916,0.1138656809926033,0.10091813653707504,-0.14604870975017548,0.07965778559446335,0.00031578721245750785,0.10372359305620193,-0.024302735924720764,-0.003467643866315484,-0.012926243245601654,0.13812504708766937,0.0871308222413063,0.4327341616153717,-0.13441120088100433,-0.0015043187886476517,-0.33157625794410706,-0.03211400285363197,0.16234171390533447,0.05057714506983757,-0.03121255710721016,0.10072299093008041,0.036851368844509125,-0.09777309745550156,-0.055169686675071716,-0.043314285576343536,0.06363169848918915,-0.07897240668535233,0.1944921463727951,-0.015857281163334846,-0.043426815420389175,-0.5349225997924805,-0.004422858823090792,-0.06077728420495987,-0.003889350453391671,0.19039314985275269,0.04290277138352394,-0.13422884047031403,-0.02144674025475979,-0.04856047406792641,0.11992470175027847,0.022134235128760338,0.1240612342953682,-0.13819625973701477,0.20302478969097137,-0.09597548842430115,0.03600979223847389,-0.017043594270944595,-0.036342669278383255,0.08788765221834183,0.07821284979581833,-0.2195935994386673,0.0006569743854925036,0.027631936594843864,-0.0903187170624733,-0.311275452375412,0.02535916119813919,0.19549553096294403,0.05777217075228691,-0.09800468385219574,0.218223437666893,-0.013895505107939243,0.04838193953037262,0.023913387209177017,0.20067350566387177,-0.0010380311869084835,-0.23684193193912506,0.06496524065732956,-0.006393491756170988,0.2511114776134491,0.0597255676984787,-0.16914717853069305,0.35494908690452576,-0.21363963186740875,0.0033661758061498404,0.27271875739097595,-0.014476237818598747,-0.011798074468970299,-0.10060455650091171,-0.0416976660490036,0.037694718688726425,0.4249568581581116,-0.050533782690763474,0.005085704382508993,0.1582166999578476,0.21679234504699707,0.22589924931526184,0.0869758352637291,0.04622570052742958,-0.014284908771514893,0.06048168987035751,-0.08747653663158417,-0.12393433600664139,0.44696375727653503,0.13502775132656097,0.13949152827262878,0.26408177614212036,0.1320214420557022,-0.04903554916381836,0.054734256118535995,-0.022362403571605682,0.18342329561710358,0.21391993761062622,-0.07218638807535172,-0.07061506807804108,0.19077391922473907,0.06157340109348297,-0.08029551804065704,-0.00376178533770144,-0.055025823414325714,0.08972036838531494,0.018909035250544548,-0.06626909226179123,0.058550070971250534,0.06631995737552643,0.10367049276828766,0.02840752713382244,-0.26401224732398987,-0.035324715077877045,-5.193919059820473e-05,0.07624449580907822,-0.11155297607183456,-0.10514196008443832,0.020670950412750244,-0.006970019545406103,-0.38014325499534607,0.11478680372238159,-0.12262944877147675,-0.03715360909700394,-0.05444568023085594,0.028414294123649597,0.05318848416209221,-0.1687726378440857,0.30689603090286255,0.14713719487190247,-0.19517748057842255,-0.06962458789348602,0.06704814732074738,0.01012738049030304,-0.16967244446277618,-0.11949722468852997,-0.02520454302430153,0.034088704735040665,-0.04972764104604721,0.07608232647180557,-0.04452882334589958,0.1554960459470749,-0.027086248621344566,-0.13290709257125854,0.040696099400520325,0.000957788317464292,0.1293920874595642,0.14003823697566986,0.009367045015096664,0.05845603719353676,0.08729775995016098,-0.08428604900836945,0.017030179500579834,-0.18281252682209015,0.06348458677530289,-0.010831829160451889,0.04911127686500549,0.08480407297611237,0.02318010851740837,0.13835057616233826,0.13309915363788605,0.04522142931818962,0.07602056860923767,-0.12755821645259857,0.06523337960243225,0.032548755407333374,0.10187337547540665,0.06679676473140717,-0.03159347549080849,0.1196257472038269,-0.03389636427164078,0.07052604854106903,0.08021662384271622,-0.19007785618305206,-0.5720858573913574,-0.15654565393924713,0.14175061881542206,-0.010045136325061321,0.1746763288974762,0.09375091642141342,-0.13164226710796356,-0.0872235968708992,0.08623776584863663,0.11264906823635101,0.0317511111497879,-0.08618328720331192,-0.12353609502315521,0.32523563504219055,-0.008229389786720276,-0.17639872431755066,-0.5664949417114258,0.09695874154567719,0.06311257928609848,0.026633981615304947,0.14667607843875885,-0.057341158390045166,-0.09501731395721436,-0.11459960043430328,-0.23087231814861298,-0.11822112649679184,0.09379459172487259,-0.181807741522789,-0.1717936098575592,-0.0798925906419754,-0.051775991916656494,-0.060298871248960495,0.06699055433273315,-0.1613508015871048,0.17953750491142273,-0.1927536129951477,-0.03639703989028931,0.0363987497985363,-0.1888483464717865,0.04834497347474098,0.054968997836112976,0.13547402620315552,-0.2635037302970886,-0.023280415683984756,-0.28504297137260437,0.15162594616413116,0.12490780651569366,-0.01489853672683239,-0.10392318665981293,0.030262416228652,-0.03710770234465599,-0.017808152362704277,-0.09159650653600693,-0.10382210463285446,-0.0718638077378273,-0.0283823162317276,-0.2046820968389511,0.18398642539978027,0.0999445915222168,0.053868502378463745,0.39970603585243225,-0.07471416145563126,-0.019993856549263,0.05809897929430008,0.013960666954517365,0.027090543881058693,-0.09228113293647766,0.023365989327430725,-0.10519140213727951,-0.06757103651762009,-0.00118780427146703,0.0642712414264679,-0.21328982710838318,-0.13012972474098206,0.1546166092157364,-0.06322856992483139,0.03463949263095856,-0.06282121688127518,-0.06886869668960571,0.07727881520986557,0.2130340039730072,-0.08966567367315292,0.02354568801820278,-0.09260659664869308,-0.2514920234680176,-0.05639271065592766,0.1302678883075714,0.017346538603305817,0.26365727186203003,0.034301962703466415,0.12634015083312988,0.0776088610291481,0.003999824170023203,0.15528739988803864,-0.3058894872665405,0.13387252390384674,0.19969633221626282,-0.4432017505168915,-0.1046227514743805,0.10390949249267578,-0.06118069961667061,0.020566580817103386,-0.048209305852651596,0.06974927335977554,0.004173722118139267,0.697410523891449,0.061015717685222626,-0.11068694293498993,-0.1366284042596817,0.013984217308461666,-0.00024698959896340966,-0.12507544457912445,0.007988814264535904,0.3257637023925781,0.018091481178998947,-0.22296516597270966,-0.08778111636638641,-0.09573926031589508,-0.17752037942409515,-0.051642533391714096,-0.07474439591169357,0.09092404693365097,0.32048356533050537,-0.13158632814884186,-0.11407878249883652,-0.08392152935266495,0.14067193865776062,-0.00131982343737036,-0.28499361872673035,-0.03572537750005722,-0.09817829728126526,-0.0871172621846199,-0.03191434592008591,-0.055215585976839066,-0.12886111438274384,0.02908947505056858,-0.2007284015417099,0.2316265106201172,0.03653377294540405,-0.04205087199807167,-0.32430681586265564,0.03904901072382927,0.3731265068054199,-0.017286241054534912,-0.20386984944343567,-0.00928153470158577,-0.047145094722509384,-0.06742816418409348,-0.20229128003120422,-0.07699605077505112,-0.057152170687913895,-0.15758447349071503,0.09862972795963287,0.014904146082699299,0.09882541000843048,0.33293160796165466,0.0905732810497284,-0.04501449316740036,0.08292371034622192,-0.01565024070441723,-0.08916280418634415,0.01963403820991516,-0.0659850537776947,0.023663926869630814,0.06664305925369263,-0.02584221214056015,-0.03271017223596573,-0.1107889786362648,0.058602381497621536,0.40782809257507324,0.22144153714179993,0.2203112244606018,0.08268912136554718,-0.02406349591910839,-0.14199642837047577,-0.035727016627788544,0.005372306797653437,0.126729816198349,-0.11946786195039749,0.1308215707540512,0.052051302045583725,-0.06066565588116646,0.11817417293787003,-0.19636747241020203,-0.03337356075644493,-0.2768007814884186,0.17678841948509216,0.203377828001976,-0.043792739510536194,0.033117908984422684,-0.1312103122472763,0.007263924926519394,0.06253920495510101,-0.15753625333309174,-0.1376192420721054,-0.07023517787456512,-0.024113599210977554,0.03916112333536148,0.050473518669605255,-0.02543172426521778,0.0907677486538887,0.4679122567176819,0.11053946614265442,0.01279632467776537,-0.38556474447250366,0.1280430406332016,0.10505969822406769,0.19375218451023102,0.22864821553230286,0.19607223570346832,0.0679309219121933,-0.18661580979824066,-0.16320623457431793,-0.030327361077070236,0.16056780517101288,-0.11011692136526108,0.08506506681442261,-0.07389556616544724,-0.07760752737522125,0.03158538043498993,0.3346012532711029,0.23915071785449982,0.1402929276227951,-0.13766442239284515,0.018345864489674568,0.09280669689178467,0.10395710915327072,-0.05887773633003235,-0.08911120891571045,0.022240450605750084,0.16048717498779297,-0.011842248030006886,-0.07726114243268967,-0.14254453778266907,0.10253222286701202,-0.16896454989910126,-0.011080305092036724,-0.08760078996419907,0.10483088344335556,0.004772973246872425,-0.12240312248468399,0.04201958328485489,-0.02115822769701481,-0.15012402832508087,-0.01845138892531395,-0.110503651201725,-0.1756604164838791,0.027076121419668198,-0.12160497903823853,-0.0662006363272667,0.08491472899913788,-0.02413652464747429,-0.1477893888950348,0.03359893709421158,0.5155230760574341,-0.12728005647659302,0.04091924801468849,-0.2747320830821991,0.09508781135082245,0.116926409304142,-0.05622895434498787,0.09022421389818192,-0.1752149909734726,0.052617620676755905,-0.01361998450011015,-0.011526080779731274,0.2660096287727356,0.09583577513694763,-0.17566147446632385,0.08092674612998962,0.11341464519500732,0.18610763549804688,-0.031022600829601288,0.017840486019849777,-0.08469809591770172,-0.16710610687732697,0.06596992909908295,0.0019663474522531033,-0.13530264794826508,0.12647749483585358,0.09393204748630524,-0.027328085154294968,0.293009877204895,-0.3004986047744751,0.004602015484124422,0.023612579330801964,0.014655672013759613,-0.06649741530418396,0.0709269791841507,0.09541292488574982,0.16159014403820038,-0.05523596331477165,0.036009229719638824,0.15180125832557678,-0.01933964341878891,-0.0983521118760109,0.23221880197525024,0.2678329646587372,-0.2291898876428604,0.11072045564651489,-0.027296217158436775,0.056055471301078796,0.20733346045017242,0.30668875575065613,-0.14402323961257935,-0.011885016225278378,-0.15787504613399506],\"y\":[0.02751345746219158,0.03428129479289055,0.05940067395567894,-0.007407477591186762,0.04461267963051796,-0.013422458432614803,0.041328977793455124,-0.028169924393296242,-0.2174322009086609,-0.050812188535928726,0.22026856243610382,-0.059967558830976486,0.1583753526210785,-0.01187549252063036,0.3469027280807495,0.04917645826935768,-0.09144711494445801,-0.0098770996555686,0.2054445743560791,-0.16787275671958923,-0.04309288412332535,-0.11072077602148056,0.031637921929359436,0.031100358814001083,-0.022438986226916313,-0.1450774371623993,-0.05377746373414993,-0.43124669790267944,0.08948706090450287,-0.04222362861037254,0.349470853805542,0.08124517649412155,-0.17374631762504578,0.0006572286365553737,-0.011794422753155231,-0.041117895394563675,-0.03694390878081322,0.12411069124937057,-0.013727796263992786,-0.03571648523211479,-0.06740465015172958,0.052833132445812225,-0.15416620671749115,0.07085274159908295,0.104910708963871,0.5451402068138123,0.04175005480647087,0.05888087674975395,-0.007658257149159908,-0.10936395823955536,-0.04323761910200119,0.16105814278125763,0.015294959768652916,0.05691030994057655,-0.13250236213207245,-0.06799324601888657,-0.10041806101799011,0.13542141020298004,-0.15699456632137299,0.04730715602636337,0.02090633101761341,-0.05133138969540596,0.03550680726766586,-0.09775062650442123,-0.12091762572526932,0.1345302313566208,-0.036622870713472366,-0.04100526124238968,0.04755103215575218,0.31028181314468384,-0.046435460448265076,-0.2201494574546814,-0.0786915197968483,0.07352349162101746,-0.18370410799980164,-0.003417796455323696,0.010095926001667976,-0.04983445256948471,-0.1236310824751854,-0.0385301299393177,0.237192764878273,-0.13483679294586182,-0.004625052213668823,-0.29925087094306946,-0.04146497696638107,0.16910304129123688,-0.29902055859565735,0.22337692975997925,-0.08889703452587128,-0.2706584632396698,-0.04614827036857605,0.0009758345549926162,0.10622448474168777,0.07854866236448288,-0.07982318103313446,-0.42263466119766235,0.04376336559653282,-0.07248809188604355,-0.14696796238422394,-0.27592286467552185,-0.15404941141605377,-0.061428409069776535,-0.0688229501247406,0.0011132111540064216,0.019558275118470192,0.11823710054159164,0.05061463639140129,-0.47744154930114746,-0.15278199315071106,-0.09606950730085373,-0.26508355140686035,-0.1736876219511032,0.01580168306827545,-0.06652029603719711,0.055532801896333694,-0.13390401005744934,-0.2706882953643799,0.04154467210173607,0.06461910903453827,-0.14412739872932434,-0.08680175244808197,0.07289215922355652,0.05684896185994148,-0.016691386699676514,-0.08487007021903992,-0.044843290001153946,0.04666905850172043,-0.03767092898488045,-0.018431011587381363,-0.056954655796289444,0.0027558181900531054,0.17288383841514587,0.10398539900779724,-0.006170495413243771,-0.030399715527892113,0.09049171954393387,0.055330343544483185,-0.08218667656183243,0.015069862827658653,0.3606269657611847,-0.08518238365650177,0.13417872786521912,0.0925862193107605,0.00379124260507524,0.0446334034204483,-0.05122897028923035,0.21365872025489807,-0.2349325269460678,-0.09990519285202026,0.12067588418722153,0.02449754998087883,-0.033376339823007584,-0.05704730004072189,0.06613961607217789,0.09880466014146805,0.017319224774837494,-0.03287901729345322,0.07166894525289536,-0.04280738905072212,0.09570793062448502,-0.15699201822280884,0.06679987162351608,0.12186283618211746,0.012369124218821526,0.05485895648598671,-0.1571323722600937,-0.1600952446460724,-0.027251863852143288,-0.11248841881752014,-0.010813423432409763,0.08003269135951996,-0.09937827289104462,0.11519202589988708,-0.05946727097034454,0.012394431047141552,-0.06583032757043839,-0.10246127843856812,-0.019348345696926117,-0.11346873641014099,-0.14154572784900665,0.007331929635256529,-0.10532946139574051,0.17743124067783356,-0.1551598459482193,-0.11653231829404831,-0.0815415009856224,-0.05865347012877464,0.058528415858745575,-0.03782426565885544,0.014061964116990566,-0.011927343904972076,-0.12105776369571686,0.17390941083431244,0.5051605105400085,0.09069502353668213,-0.11162277311086655,0.04099749028682709,-0.1619812697172165,-0.05593819543719292,0.09657035022974014,0.07712016999721527,-0.04964604601264,-0.08944795280694962,-0.02684803679585457,0.08671905845403671,0.14081944525241852,-0.2828867435455322,0.021793225780129433,0.13003769516944885,0.5499034523963928,-0.05454106256365776,-0.017586443573236465,-0.08834277093410492,-0.04641219228506088,0.07240025699138641,0.08870523422956467,0.12002261728048325,0.20737531781196594,0.14182107150554657,-0.14821308851242065,0.2023249864578247,0.14884911477565765,0.060675691813230515,0.10491972416639328,0.023038513958454132,-0.047261372208595276,0.08902207016944885,-0.21652980148792267,0.18493077158927917,0.056952208280563354,-0.08777239918708801,0.12287990003824234,0.0025812021922320127,-0.06569404900074005,-0.13169585168361664,0.2339017391204834,0.04737905040383339,0.30344945192337036,-0.1201818436384201,-0.16180402040481567,0.0318317636847496,0.1644887626171112,-0.027975289151072502,0.023441439494490623,-0.004847966134548187,0.060991864651441574,0.1096489354968071,0.025335634127259254,0.013136638328433037,0.1601662039756775,-0.12710648775100708,-0.0955992117524147,0.0014721389161422849,-0.30715692043304443,0.06671987473964691,-0.02059244178235531,-0.024473605677485466,-0.015637366101145744,-0.09654001891613007,0.06287335604429245,-0.020336046814918518,0.12511441111564636,0.08910883218050003,0.0933273658156395,-0.035465680062770844,0.20402321219444275,0.11832426488399506,-0.145608052611351,0.10882485657930374,-0.05103449523448944,0.0462961345911026,0.057303838431835175,-0.055015187710523605,-0.20345370471477509,0.17171436548233032,-0.013097474351525307,0.0767262801527977,0.24462024867534637,0.05463802069425583,-0.1808374971151352,0.018998179584741592,-0.23866675794124603,-0.0939066931605339,-0.08823011070489883,-0.08424916863441467,-0.07583525776863098,-0.10977321118116379,0.28807005286216736,-0.10843225568532944,-0.21804775297641754,0.4178163707256317,0.06715293973684311,-0.013967483304440975,0.03976226598024368,0.0007664106087759137,0.04298119992017746,-0.015106063336133957,-0.030116789042949677,-0.6467486619949341,-0.09802538901567459,0.00816961470991373,0.12310526520013809,-0.03165677934885025,0.07177245616912842,0.17843963205814362,0.028001148253679276,-0.2634831964969635,-0.06519369781017303,0.14827364683151245,0.06415426731109619,0.020268701016902924,0.0977385938167572,0.04424150660634041,0.1060498058795929,-0.04467833787202835,-0.30142053961753845,0.11901362985372543,0.0444604828953743,0.09256773442029953,-0.1300598531961441,0.011774104088544846,0.3134482204914093,-0.04649829491972923,0.06885579973459244,0.053626082837581635,0.018304158002138138,0.022548813372850418,0.1038292795419693,-0.015545139089226723,0.19532552361488342,-0.20761388540267944,-0.0858951061964035,-0.015348738990724087,0.23892155289649963,-0.019549628719687462,-0.3955320119857788,0.010391900315880775,0.13709688186645508,0.008271702565252781,0.1107100173830986,0.06285001337528229,0.22098729014396667,0.10678935796022415,0.0646928921341896,0.11893151700496674,-0.03576860576868057,-0.038147710263729095,-0.09469794481992722,-0.3263624310493469,-0.04520938917994499,0.014452925883233547,-0.0990648865699768,-0.03417641669511795,0.06546803563833237,-0.026046916842460632,0.052124395966529846,0.020659979432821274,-0.08245987445116043,0.02455957420170307,-0.008664771914482117,0.1709974855184555,-0.055385611951351166,-0.34406471252441406,-0.20573782920837402,-0.2718116044998169,-0.1301831305027008,0.024057243019342422,0.16936320066452026,0.027065327391028404,-0.01587066426873207,-0.11813608556985855,0.098296619951725,-0.06672297418117523,-0.10861486196517944,0.03390297666192055,-0.13997820019721985,0.204283207654953,0.02084578201174736,0.2290070354938507,-0.20360305905342102,-0.16277745366096497,-0.006195204332470894,-0.06558447331190109,0.13078202307224274,-0.03290193900465965,-0.10293984413146973,0.11098594963550568,0.0694173127412796,0.05609213933348656,0.05995762348175049,0.008094259537756443,-0.005231649614870548,0.022618336603045464,-0.12255393713712692,-0.42346423864364624,-0.039205748587846756,-0.08333655446767807,0.3679638206958771,-0.16070780158042908,-0.02601027302443981,-0.2044171690940857,-0.18497520685195923,-0.11815362423658371,-0.0671064555644989,0.25426286458969116,0.10764915496110916,0.05212536081671715,-0.11539184302091599,0.07297953218221664,-0.14676281809806824,0.1032690554857254,0.11860256642103195,-0.09424658119678497,-0.3199478089809418,-0.17425592243671417,-0.0783824697136879,0.05216313898563385,-0.003592614084482193,-0.08613964170217514,-0.05551208183169365,0.03266764059662819,0.12160609662532806,0.03313383087515831,-0.18422672152519226,-0.019017182290554047,0.0482829324901104,0.08731739968061447,-0.14084964990615845,0.07990068197250366,0.08153499662876129,0.1206308901309967,-0.04888232424855232,-0.04448538273572922,0.15924403071403503,-0.11068021506071091,-0.053081899881362915,0.15373682975769043,0.003201887710019946,0.14094854891300201,0.15139415860176086,-0.007968042977154255,0.10582075268030167,0.035897206515073776,-0.059536632150411606,0.033514488488435745,0.10557779669761658,-0.02263699285686016,-0.42653682827949524,0.085586778819561,0.026019837707281113,0.24047552049160004,-0.12194010615348816,-0.08441663533449173,0.04396038502454758,-0.14216409623622894,0.16995960474014282,-0.07116973400115967,-0.0712416023015976,-0.004497909918427467,-0.24470160901546478,-0.0915752574801445,0.09625444561243057,-0.029328610748052597,-0.15865039825439453,-0.13614694774150848,0.08052227646112442,-0.03094826452434063,0.03711283951997757,0.1096927598118782,-0.06528863310813904,-0.07025932520627975,0.11307691782712936,-0.06062183156609535,-0.15314559638500214,0.08658640831708908,-0.25593453645706177,0.25410735607147217,-0.004314525052905083,-0.004266710951924324,0.014067034237086773,0.12363506108522415,-0.10674715042114258,-0.0984852984547615,-0.11396893113851547,0.06395098567008972,0.0366193987429142,-0.21493954956531525,-0.0038776469882577658,0.05227844789624214,-0.17470917105674744,-0.2793700098991394,0.15141238272190094,-0.1693343073129654,0.03509565070271492,-0.09484238177537918,-0.181230828166008,-0.3038007616996765,0.076655812561512,0.05424079671502113,0.2107446938753128],\"type\":\"scatter\"}],                        {\"hovermode\":\"closest\",\"title\":{\"text\":\"Word Embeddings\"},\"template\":{\"data\":{\"histogram2dcontour\":[{\"type\":\"histogram2dcontour\",\"colorbar\":{\"outlinewidth\":0,\"ticks\":\"\"},\"colorscale\":[[0.0,\"#0d0887\"],[0.1111111111111111,\"#46039f\"],[0.2222222222222222,\"#7201a8\"],[0.3333333333333333,\"#9c179e\"],[0.4444444444444444,\"#bd3786\"],[0.5555555555555556,\"#d8576b\"],[0.6666666666666666,\"#ed7953\"],[0.7777777777777778,\"#fb9f3a\"],[0.8888888888888888,\"#fdca26\"],[1.0,\"#f0f921\"]]}],\"choropleth\":[{\"type\":\"choropleth\",\"colorbar\":{\"outlinewidth\":0,\"ticks\":\"\"}}],\"histogram2d\":[{\"type\":\"histogram2d\",\"colorbar\":{\"outlinewidth\":0,\"ticks\":\"\"},\"colorscale\":[[0.0,\"#0d0887\"],[0.1111111111111111,\"#46039f\"],[0.2222222222222222,\"#7201a8\"],[0.3333333333333333,\"#9c179e\"],[0.4444444444444444,\"#bd3786\"],[0.5555555555555556,\"#d8576b\"],[0.6666666666666666,\"#ed7953\"],[0.7777777777777778,\"#fb9f3a\"],[0.8888888888888888,\"#fdca26\"],[1.0,\"#f0f921\"]]}],\"heatmap\":[{\"type\":\"heatmap\",\"colorbar\":{\"outlinewidth\":0,\"ticks\":\"\"},\"colorscale\":[[0.0,\"#0d0887\"],[0.1111111111111111,\"#46039f\"],[0.2222222222222222,\"#7201a8\"],[0.3333333333333333,\"#9c179e\"],[0.4444444444444444,\"#bd3786\"],[0.5555555555555556,\"#d8576b\"],[0.6666666666666666,\"#ed7953\"],[0.7777777777777778,\"#fb9f3a\"],[0.8888888888888888,\"#fdca26\"],[1.0,\"#f0f921\"]]}],\"heatmapgl\":[{\"type\":\"heatmapgl\",\"colorbar\":{\"outlinewidth\":0,\"ticks\":\"\"},\"colorscale\":[[0.0,\"#0d0887\"],[0.1111111111111111,\"#46039f\"],[0.2222222222222222,\"#7201a8\"],[0.3333333333333333,\"#9c179e\"],[0.4444444444444444,\"#bd3786\"],[0.5555555555555556,\"#d8576b\"],[0.6666666666666666,\"#ed7953\"],[0.7777777777777778,\"#fb9f3a\"],[0.8888888888888888,\"#fdca26\"],[1.0,\"#f0f921\"]]}],\"contourcarpet\":[{\"type\":\"contourcarpet\",\"colorbar\":{\"outlinewidth\":0,\"ticks\":\"\"}}],\"contour\":[{\"type\":\"contour\",\"colorbar\":{\"outlinewidth\":0,\"ticks\":\"\"},\"colorscale\":[[0.0,\"#0d0887\"],[0.1111111111111111,\"#46039f\"],[0.2222222222222222,\"#7201a8\"],[0.3333333333333333,\"#9c179e\"],[0.4444444444444444,\"#bd3786\"],[0.5555555555555556,\"#d8576b\"],[0.6666666666666666,\"#ed7953\"],[0.7777777777777778,\"#fb9f3a\"],[0.8888888888888888,\"#fdca26\"],[1.0,\"#f0f921\"]]}],\"surface\":[{\"type\":\"surface\",\"colorbar\":{\"outlinewidth\":0,\"ticks\":\"\"},\"colorscale\":[[0.0,\"#0d0887\"],[0.1111111111111111,\"#46039f\"],[0.2222222222222222,\"#7201a8\"],[0.3333333333333333,\"#9c179e\"],[0.4444444444444444,\"#bd3786\"],[0.5555555555555556,\"#d8576b\"],[0.6666666666666666,\"#ed7953\"],[0.7777777777777778,\"#fb9f3a\"],[0.8888888888888888,\"#fdca26\"],[1.0,\"#f0f921\"]]}],\"mesh3d\":[{\"type\":\"mesh3d\",\"colorbar\":{\"outlinewidth\":0,\"ticks\":\"\"}}],\"scatter\":[{\"fillpattern\":{\"fillmode\":\"overlay\",\"size\":10,\"solidity\":0.2},\"type\":\"scatter\"}],\"parcoords\":[{\"type\":\"parcoords\",\"line\":{\"colorbar\":{\"outlinewidth\":0,\"ticks\":\"\"}}}],\"scatterpolargl\":[{\"type\":\"scatterpolargl\",\"marker\":{\"colorbar\":{\"outlinewidth\":0,\"ticks\":\"\"}}}],\"bar\":[{\"error_x\":{\"color\":\"#2a3f5f\"},\"error_y\":{\"color\":\"#2a3f5f\"},\"marker\":{\"line\":{\"color\":\"#E5ECF6\",\"width\":0.5},\"pattern\":{\"fillmode\":\"overlay\",\"size\":10,\"solidity\":0.2}},\"type\":\"bar\"}],\"scattergeo\":[{\"type\":\"scattergeo\",\"marker\":{\"colorbar\":{\"outlinewidth\":0,\"ticks\":\"\"}}}],\"scatterpolar\":[{\"type\":\"scatterpolar\",\"marker\":{\"colorbar\":{\"outlinewidth\":0,\"ticks\":\"\"}}}],\"histogram\":[{\"marker\":{\"pattern\":{\"fillmode\":\"overlay\",\"size\":10,\"solidity\":0.2}},\"type\":\"histogram\"}],\"scattergl\":[{\"type\":\"scattergl\",\"marker\":{\"colorbar\":{\"outlinewidth\":0,\"ticks\":\"\"}}}],\"scatter3d\":[{\"type\":\"scatter3d\",\"line\":{\"colorbar\":{\"outlinewidth\":0,\"ticks\":\"\"}},\"marker\":{\"colorbar\":{\"outlinewidth\":0,\"ticks\":\"\"}}}],\"scattermapbox\":[{\"type\":\"scattermapbox\",\"marker\":{\"colorbar\":{\"outlinewidth\":0,\"ticks\":\"\"}}}],\"scatterternary\":[{\"type\":\"scatterternary\",\"marker\":{\"colorbar\":{\"outlinewidth\":0,\"ticks\":\"\"}}}],\"scattercarpet\":[{\"type\":\"scattercarpet\",\"marker\":{\"colorbar\":{\"outlinewidth\":0,\"ticks\":\"\"}}}],\"carpet\":[{\"aaxis\":{\"endlinecolor\":\"#2a3f5f\",\"gridcolor\":\"white\",\"linecolor\":\"white\",\"minorgridcolor\":\"white\",\"startlinecolor\":\"#2a3f5f\"},\"baxis\":{\"endlinecolor\":\"#2a3f5f\",\"gridcolor\":\"white\",\"linecolor\":\"white\",\"minorgridcolor\":\"white\",\"startlinecolor\":\"#2a3f5f\"},\"type\":\"carpet\"}],\"table\":[{\"cells\":{\"fill\":{\"color\":\"#EBF0F8\"},\"line\":{\"color\":\"white\"}},\"header\":{\"fill\":{\"color\":\"#C8D4E3\"},\"line\":{\"color\":\"white\"}},\"type\":\"table\"}],\"barpolar\":[{\"marker\":{\"line\":{\"color\":\"#E5ECF6\",\"width\":0.5},\"pattern\":{\"fillmode\":\"overlay\",\"size\":10,\"solidity\":0.2}},\"type\":\"barpolar\"}],\"pie\":[{\"automargin\":true,\"type\":\"pie\"}]},\"layout\":{\"autotypenumbers\":\"strict\",\"colorway\":[\"#636efa\",\"#EF553B\",\"#00cc96\",\"#ab63fa\",\"#FFA15A\",\"#19d3f3\",\"#FF6692\",\"#B6E880\",\"#FF97FF\",\"#FECB52\"],\"font\":{\"color\":\"#2a3f5f\"},\"hovermode\":\"closest\",\"hoverlabel\":{\"align\":\"left\"},\"paper_bgcolor\":\"white\",\"plot_bgcolor\":\"#E5ECF6\",\"polar\":{\"bgcolor\":\"#E5ECF6\",\"angularaxis\":{\"gridcolor\":\"white\",\"linecolor\":\"white\",\"ticks\":\"\"},\"radialaxis\":{\"gridcolor\":\"white\",\"linecolor\":\"white\",\"ticks\":\"\"}},\"ternary\":{\"bgcolor\":\"#E5ECF6\",\"aaxis\":{\"gridcolor\":\"white\",\"linecolor\":\"white\",\"ticks\":\"\"},\"baxis\":{\"gridcolor\":\"white\",\"linecolor\":\"white\",\"ticks\":\"\"},\"caxis\":{\"gridcolor\":\"white\",\"linecolor\":\"white\",\"ticks\":\"\"}},\"coloraxis\":{\"colorbar\":{\"outlinewidth\":0,\"ticks\":\"\"}},\"colorscale\":{\"sequential\":[[0.0,\"#0d0887\"],[0.1111111111111111,\"#46039f\"],[0.2222222222222222,\"#7201a8\"],[0.3333333333333333,\"#9c179e\"],[0.4444444444444444,\"#bd3786\"],[0.5555555555555556,\"#d8576b\"],[0.6666666666666666,\"#ed7953\"],[0.7777777777777778,\"#fb9f3a\"],[0.8888888888888888,\"#fdca26\"],[1.0,\"#f0f921\"]],\"sequentialminus\":[[0.0,\"#0d0887\"],[0.1111111111111111,\"#46039f\"],[0.2222222222222222,\"#7201a8\"],[0.3333333333333333,\"#9c179e\"],[0.4444444444444444,\"#bd3786\"],[0.5555555555555556,\"#d8576b\"],[0.6666666666666666,\"#ed7953\"],[0.7777777777777778,\"#fb9f3a\"],[0.8888888888888888,\"#fdca26\"],[1.0,\"#f0f921\"]],\"diverging\":[[0,\"#8e0152\"],[0.1,\"#c51b7d\"],[0.2,\"#de77ae\"],[0.3,\"#f1b6da\"],[0.4,\"#fde0ef\"],[0.5,\"#f7f7f7\"],[0.6,\"#e6f5d0\"],[0.7,\"#b8e186\"],[0.8,\"#7fbc41\"],[0.9,\"#4d9221\"],[1,\"#276419\"]]},\"xaxis\":{\"gridcolor\":\"white\",\"linecolor\":\"white\",\"ticks\":\"\",\"title\":{\"standoff\":15},\"zerolinecolor\":\"white\",\"automargin\":true,\"zerolinewidth\":2},\"yaxis\":{\"gridcolor\":\"white\",\"linecolor\":\"white\",\"ticks\":\"\",\"title\":{\"standoff\":15},\"zerolinecolor\":\"white\",\"automargin\":true,\"zerolinewidth\":2},\"scene\":{\"xaxis\":{\"backgroundcolor\":\"#E5ECF6\",\"gridcolor\":\"white\",\"linecolor\":\"white\",\"showbackground\":true,\"ticks\":\"\",\"zerolinecolor\":\"white\",\"gridwidth\":2},\"yaxis\":{\"backgroundcolor\":\"#E5ECF6\",\"gridcolor\":\"white\",\"linecolor\":\"white\",\"showbackground\":true,\"ticks\":\"\",\"zerolinecolor\":\"white\",\"gridwidth\":2},\"zaxis\":{\"backgroundcolor\":\"#E5ECF6\",\"gridcolor\":\"white\",\"linecolor\":\"white\",\"showbackground\":true,\"ticks\":\"\",\"zerolinecolor\":\"white\",\"gridwidth\":2}},\"shapedefaults\":{\"line\":{\"color\":\"#2a3f5f\"}},\"annotationdefaults\":{\"arrowcolor\":\"#2a3f5f\",\"arrowhead\":0,\"arrowwidth\":1},\"geo\":{\"bgcolor\":\"white\",\"landcolor\":\"#E5ECF6\",\"subunitcolor\":\"white\",\"showland\":true,\"showlakes\":true,\"lakecolor\":\"white\"},\"title\":{\"x\":0.05},\"mapbox\":{\"style\":\"light\"}}}},                        {\"responsive\": true}                    ).then(function(){\n",
              "                            \n",
              "var gd = document.getElementById('eea741ec-6e21-4396-8036-aedbc291033b');\n",
              "var x = new MutationObserver(function (mutations, observer) {{\n",
              "        var display = window.getComputedStyle(gd).display;\n",
              "        if (!display || display === 'none') {{\n",
              "            console.log([gd, 'removed!']);\n",
              "            Plotly.purge(gd);\n",
              "            observer.disconnect();\n",
              "        }}\n",
              "}});\n",
              "\n",
              "// Listen for the removal of the full notebook cells\n",
              "var notebookContainer = gd.closest('#notebook-container');\n",
              "if (notebookContainer) {{\n",
              "    x.observe(notebookContainer, {childList: true});\n",
              "}}\n",
              "\n",
              "// Listen for the clearing of the current output cell\n",
              "var outputEl = gd.closest('.output');\n",
              "if (outputEl) {{\n",
              "    x.observe(outputEl, {childList: true});\n",
              "}}\n",
              "\n",
              "                        })                };                            </script>        </div>\n",
              "</body>\n",
              "</html>"
            ]
          },
          "metadata": {}
        }
      ],
      "source": [
        "def plot_2d_embeddings(embeddings, id_start=1, count=100):\n",
        "  # Get 1st and 2nd embedding dims for the desired tokens.\n",
        "  x1 = embeddings[id_start:id_start+count, 0]\n",
        "  x2 = embeddings[id_start:id_start+count, 1]\n",
        "\n",
        "  # Get the corresponding words from the reverse index (for labeling).\n",
        "  tokens = [reverse_index[i] for i in range(id_start, id_start+count)]\n",
        "\n",
        "  # Plot with the plotly library.\n",
        "  data = plotly.Scatter(x=x1, y=x2, text=tokens,\n",
        "                        mode='markers', textposition='bottom left',\n",
        "                        hoverinfo='text')\n",
        "  fig = plotly.Figure(data=[data],\n",
        "                      layout=plotly.Layout(title=\"Word Embeddings\",\n",
        "                                           hovermode='closest'))\n",
        "  fig.show()\n",
        "\n",
        "# Very frequent tokens tend to be more syntactic than semantic, so let's plot\n",
        "# some rarer words.\n",
        "plot_2d_embeddings(embeddings, id_start=500, count=500)"
      ]
    },
    {
      "cell_type": "markdown",
      "metadata": {
        "id": "Z3Mm8MjRcZ20"
      },
      "source": [
        "---\n",
        "### Exercise 4: Interpreting Embeddings (20 points)\n",
        "Notice that the 2-D embeddings fall in a narrow diagonal band.\n",
        "\n",
        "1. Have the learned embeddings separated positive and negative words? What is the most negative word? Does this make sense?\n",
        "2. Give 2 examples of words that seem to have surprising embedding values and try to explain their positions. For example, what's going on with the tokens '7', '8', and '9'? What are two other surprising results?\n",
        "3. The embedding for 'crazy' is very close to (0,0). Explain what this means in terms of the model's output.\n",
        "4. Can you explain what you think the 2 learned embedding dimensions mean, if anything?"
      ]
    },
    {
      "cell_type": "markdown",
      "metadata": {
        "id": "x_qAAvvo2y3t"
      },
      "source": [
        "*Written answers:*\n",
        "\n",
        "1. The learned embeddings seems to have separated the positive and negative words. The most negative word is 'avoid'.\n",
        "2. The word 'today' seems to be embedded with other positive words. The words 'unless' and 'save' are clustered among negative words. These words were probably in the same sentence as other negative emotion words.\n",
        "Those numbers 7, 8 and 9 seems to indicate some form of numerical ratings of the movies. Since they are categorized along with positive emotions, a higher rating indicates better positivity. Those numericals might have made it into the vocabulary list of 1000.\n",
        "3. It means that the work 'crazy' has occured in both positive and negative reviews.\n",
        "4. The embeddings are a way to reduce the 1000 dimension data into 64/32/16/8/2 dimensions depending on the size that we want to squeeze into. The plot shows a view into two of those 64 dimensions and the relative position of all vocabulary words.\n"
      ]
    },
    {
      "cell_type": "markdown",
      "metadata": {
        "id": "HNbJuQ5ms2xr"
      },
      "source": [
        "---"
      ]
    },
    {
      "cell_type": "markdown",
      "metadata": {
        "id": "IXCitmUvxfwb"
      },
      "source": [
        "## Scaling Up!\n",
        "Remember how we limited our input sequences to 20 tokens and 1000 vocabulary entries? Let's see how well we can do using more data and bigger models (more parameters)."
      ]
    },
    {
      "cell_type": "markdown",
      "metadata": {
        "id": "OKZDEGS7xzr6"
      },
      "source": [
        "### Exercise 5: Improve Results (20 points)\n",
        "Using pieces of code from above, set up and train a model that improves the validation accuracy to at least 80%. You should include the following elements:\n",
        "\n",
        "1. Truncate and pad input to the desired length.\n",
        "2. Limit vocabulary to the desired size.\n",
        "3. Set up a model using embeddings.\n",
        "4. Add an additional layer or layers (after the embeddings layer and before the output layer).\n",
        "5. Evaluate on the test data. Remember to apply the same pre-processing to the test data. You can use model.evaluate()."
      ]
    },
    {
      "cell_type": "code",
      "execution_count": 18,
      "metadata": {
        "id": "ekbJ4sIq2hID"
      },
      "outputs": [],
      "source": [
        "# YOUR CODE HERE\n",
        "\n",
        "from keras.utils.layer_utils import count_params\n",
        "\n",
        "def train_single_vocabsize_and_sequence(X_train, Y_train, vocab_size=1000, sequence_length=20, addl_layer='Pooling1D'):\n",
        "    #embed_sizes = [32, 64]\n",
        "    embed_sizes = [64]  # for this test, we'll just use one embedding vector size\n",
        "    no_of_epochs = 5\n",
        "    col_names =  ['Additional Layer', 'Vocab size', 'Sequence Len', 'Embedding size', 'Training Accuracy', 'Validation Accuracy', 'Parameters']\n",
        "    metrics_df = pd.DataFrame(columns = col_names)\n",
        "\n",
        "    for size in embed_sizes:\n",
        "        \"\"\"Build a tf.keras model using embeddings.\"\"\"\n",
        "        # Clear session and remove randomness.\n",
        "        tf.keras.backend.clear_session()\n",
        "        tf.random.set_seed(0)\n",
        "\n",
        "        model = tf.keras.Sequential()\n",
        "        model.add(tf.keras.layers.Embedding(\n",
        "            input_dim=vocab_size,\n",
        "            output_dim=size,\n",
        "            input_length=sequence_length))\n",
        "\n",
        "        if addl_layer == 'dense':\n",
        "            # With flatten and dense, we get excellent training accuracy (99%) but not enough generalization\n",
        "            model.add(tf.keras.layers.Flatten())\n",
        "            model.add(tf.keras.layers.Dense(units=30, activation='relu'))\n",
        "        else:\n",
        "            # Default: 'Pooling1D'\n",
        "            # Simple 1D averaging gives reasonable performance (less training accuracy)\n",
        "            model.add(tf.keras.layers.GlobalAveragePooling1D())\n",
        "\n",
        "        model.add(tf.keras.layers.Dense(\n",
        "              units=1,                     # output dim (for binary classification)\n",
        "              activation='sigmoid'         # apply the sigmoid function!\n",
        "        ))\n",
        "\n",
        "        model.compile(loss='binary_crossentropy',\n",
        "                    optimizer='adam',\n",
        "                    metrics=['accuracy'])\n",
        "\n",
        "        #model.summary()\n",
        "\n",
        "        history = model.fit(\n",
        "          x = X_train,  # our sparse padded training data\n",
        "          y = Y_train,          # corresponding binary labels\n",
        "          epochs=no_of_epochs,             # number of passes through the training data\n",
        "          batch_size=64,        # mini-batch size\n",
        "          validation_split=0.1, # use a fraction of the examples for validation\n",
        "          verbose=0             # display some progress output during training\n",
        "        )\n",
        "\n",
        "        history = pd.DataFrame(history.history)\n",
        "        trainable_count = count_params(model.trainable_weights)\n",
        "        non_trainable_count = count_params(model.non_trainable_weights)\n",
        "        total_count = trainable_count + non_trainable_count\n",
        "\n",
        "        metrics_df.loc[len(metrics_df)] = {'Additional Layer': addl_layer,\n",
        "                                           'Vocab size': vocab_size,\n",
        "                                           'Sequence Len': sequence_length,\n",
        "                                           'Embedding size':size,\n",
        "                                           'Training Accuracy': history['accuracy'][no_of_epochs-1],\n",
        "                                           'Validation Accuracy': history['val_accuracy'][no_of_epochs-1],\n",
        "                                           'Parameters': total_count}\n",
        "        print()\n",
        "        print(metrics_df[['Additional Layer', 'Vocab size', 'Sequence Len', 'Embedding size', 'Training Accuracy', 'Validation Accuracy', 'Parameters']].to_string(index=False))\n",
        "\n"
      ]
    },
    {
      "cell_type": "code",
      "execution_count": 19,
      "metadata": {
        "id": "Kr61-z_Ps2xt",
        "outputId": "f72330c9-e22d-47bb-f96b-339c9dd41223",
        "colab": {
          "base_uri": "https://localhost:8080/"
        }
      },
      "outputs": [
        {
          "output_type": "stream",
          "name": "stdout",
          "text": [
            "\n",
            "Additional Layer  Vocab size  Sequence Len  Embedding size  Training Accuracy  Validation Accuracy  Parameters\n",
            "       Pooling1D         500           200              64           0.824311                0.816       32065\n",
            "\n",
            "Additional Layer  Vocab size  Sequence Len  Embedding size  Training Accuracy  Validation Accuracy  Parameters\n",
            "       Pooling1D         500           400              64           0.824222               0.8196       32065\n",
            "\n",
            "Additional Layer  Vocab size  Sequence Len  Embedding size  Training Accuracy  Validation Accuracy  Parameters\n",
            "       Pooling1D         500           800              64           0.811911               0.8104       32065\n",
            "\n",
            "Additional Layer  Vocab size  Sequence Len  Embedding size  Training Accuracy  Validation Accuracy  Parameters\n",
            "       Pooling1D        1000           200              64           0.854889                0.844       64065\n",
            "\n",
            "Additional Layer  Vocab size  Sequence Len  Embedding size  Training Accuracy  Validation Accuracy  Parameters\n",
            "       Pooling1D        1000           400              64           0.852578               0.8416       64065\n",
            "\n",
            "Additional Layer  Vocab size  Sequence Len  Embedding size  Training Accuracy  Validation Accuracy  Parameters\n",
            "       Pooling1D        1000           800              64           0.841022                 0.84       64065\n",
            "\n",
            "Additional Layer  Vocab size  Sequence Len  Embedding size  Training Accuracy  Validation Accuracy  Parameters\n",
            "       Pooling1D        2000           200              64           0.874356               0.8652      128065\n",
            "\n",
            "Additional Layer  Vocab size  Sequence Len  Embedding size  Training Accuracy  Validation Accuracy  Parameters\n",
            "       Pooling1D        2000           400              64           0.870311                0.862      128065\n",
            "\n",
            "Additional Layer  Vocab size  Sequence Len  Embedding size  Training Accuracy  Validation Accuracy  Parameters\n",
            "       Pooling1D        2000           800              64           0.858133               0.8556      128065\n",
            "\n",
            "Additional Layer  Vocab size  Sequence Len  Embedding size  Training Accuracy  Validation Accuracy  Parameters\n",
            "           dense         500           200              64           0.991733               0.7676      416061\n",
            "\n",
            "Additional Layer  Vocab size  Sequence Len  Embedding size  Training Accuracy  Validation Accuracy  Parameters\n",
            "           dense         500           400              64           0.989289               0.7916      800061\n",
            "\n",
            "Additional Layer  Vocab size  Sequence Len  Embedding size  Training Accuracy  Validation Accuracy  Parameters\n",
            "           dense         500           800              64           0.989067               0.8052     1568061\n",
            "\n",
            "Additional Layer  Vocab size  Sequence Len  Embedding size  Training Accuracy  Validation Accuracy  Parameters\n",
            "           dense        1000           200              64           0.999422               0.8104      448061\n",
            "\n",
            "Additional Layer  Vocab size  Sequence Len  Embedding size  Training Accuracy  Validation Accuracy  Parameters\n",
            "           dense        1000           400              64           0.999022               0.8212      832061\n",
            "\n",
            "Additional Layer  Vocab size  Sequence Len  Embedding size  Training Accuracy  Validation Accuracy  Parameters\n",
            "           dense        1000           800              64           0.989333               0.8372     1600061\n",
            "\n",
            "Additional Layer  Vocab size  Sequence Len  Embedding size  Training Accuracy  Validation Accuracy  Parameters\n",
            "           dense        2000           200              64           0.999867               0.8412      512061\n",
            "\n",
            "Additional Layer  Vocab size  Sequence Len  Embedding size  Training Accuracy  Validation Accuracy  Parameters\n",
            "           dense        2000           400              64           0.999733               0.8584      896061\n",
            "\n",
            "Additional Layer  Vocab size  Sequence Len  Embedding size  Training Accuracy  Validation Accuracy  Parameters\n",
            "           dense        2000           800              64           0.999333               0.8456     1664061\n"
          ]
        }
      ],
      "source": [
        "def validate_multiple_combos_vocabsize_sequencelength():\n",
        "\n",
        "    addl_layers = ['Pooling1D', 'dense']\n",
        "    seq_len = [200, 400, 800]\n",
        "    vocab_size = [500, 1000, 2000]\n",
        "\n",
        "    for layer in addl_layers:\n",
        "        for vsize in vocab_size:\n",
        "            for slen in seq_len:\n",
        "                # Truncate and pad the review comments to a max length.\n",
        "                __X_train_padded = pad_data(X_train, max_length=slen)\n",
        "\n",
        "                # Reduce the vocabulary length\n",
        "                __X_train_reduced = limit_vocab(__X_train_padded, max_token_id=vsize)\n",
        "\n",
        "                # print(f'\\nFitting with vocabulary size of {vsize} for a review length of {slen}')\n",
        "                train_single_vocabsize_and_sequence(__X_train_reduced, Y_train,\n",
        "                                                    vocab_size=vsize, sequence_length=slen,\n",
        "                                                    addl_layer=layer)\n",
        "\n",
        "validate_multiple_combos_vocabsize_sequencelength()"
      ]
    },
    {
      "cell_type": "markdown",
      "metadata": {
        "id": "7EEJI9yC2jOJ"
      },
      "source": [
        "---"
      ]
    }
  ],
  "metadata": {
    "colab": {
      "name": "09 Embeddings for Text.ipynb",
      "provenance": []
    },
    "kernelspec": {
      "display_name": "Python 3 (ipykernel)",
      "language": "python",
      "name": "python3"
    },
    "language_info": {
      "codemirror_mode": {
        "name": "ipython",
        "version": 3
      },
      "file_extension": ".py",
      "mimetype": "text/x-python",
      "name": "python",
      "nbconvert_exporter": "python",
      "pygments_lexer": "ipython3",
      "version": "3.10.9"
    }
  },
  "nbformat": 4,
  "nbformat_minor": 0
}